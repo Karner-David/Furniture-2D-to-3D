{
 "cells": [
  {
   "cell_type": "markdown",
   "metadata": {},
   "source": [
    "# 2D Image to 3D Model"
   ]
  },
  {
   "cell_type": "markdown",
   "metadata": {},
   "source": [
    "## Loading Material Properties From json"
   ]
  },
  {
   "cell_type": "code",
   "execution_count": 41,
   "metadata": {},
   "outputs": [],
   "source": [
    "import json\n",
    "from PIL import Image\n",
    "import numpy as np\n",
    "import trimesh\n",
    "import open3d as o3d\n",
    "\n",
    "with open('resized_img_processed_model_mapping.json', 'r') as f:\n",
    "    img_to_mod_map = json.load(f)\n",
    "\n",
    "with open('material_properties.json', 'r') as f:\n",
    "    material_properties = json.load(f)\n",
    "\n",
    "\n",
    "def load_preprocess_img(img_path):\n",
    "    \n",
    "    img = Image.open(img_path)\n",
    "    img_array = np.array(img)\n",
    "    img_array = img_array / 255.0\n",
    "    img_array = np.expand_dims(img_array, axis=0)\n",
    "    return img_array\n",
    "\n",
    "def simplify_mesh(mesh, target_vertices=1024):\n",
    "\n",
    "    open3d_mesh = o3d.geometry.TriangleMesh(\n",
    "        vertices=o3d.utility.Vector3dVector(mesh.vertices),\n",
    "        triangles=o3d.utility.Vector3iVector(mesh.faces)\n",
    "    )\n",
    "\n",
    "    simplified_mesh = open3d_mesh.simplify_quadric_decimation(target_vertices)\n",
    "    simplified_trimesh = trimesh.Trimesh(\n",
    "        vertices=np.asarray(simplified_mesh.vertices),\n",
    "        faces=np.asarray(simplified_mesh.triangles)\n",
    "    )\n",
    "\n",
    "    return simplified_trimesh\n",
    "\n",
    "def upsample_mesh(mesh, target_vertices=1024):\n",
    "    sampled_points, _ = trimesh.sample.sample_surface_even(mesh, target_vertices)\n",
    "    return sampled_points\n",
    "\n",
    "\n",
    "def load_3d_model(model_path, target_vertices=1024):\n",
    "    mesh = trimesh.load(model_path)\n",
    "\n",
    "    if len(mesh.vertices) > target_vertices:\n",
    "        simplified_mesh = simplify_mesh(mesh, target_vertices)\n",
    "        return simplified_mesh\n",
    "\n",
    "    elif len(mesh.vertices) < target_vertices:\n",
    "        upsampled_mesh = upsample_mesh(mesh, target_vertices)\n",
    "        return upsampled_mesh\n",
    "    \n",
    "    return mesh\n",
    "\n",
    "\n",
    "def get_material_prop(img_path, img_to_mod_map, material_properties):\n",
    "    print(img_path)\n",
    "    model_path = img_to_mod_map.get(img_path, None)\n",
    "\n",
    "    if model_path is None:\n",
    "        raise ValueError(f\"No model found for img: {img_path}\")\n",
    "\n",
    "    material_path = model_path.replace('simple_normal_model.obj', 'model.mtl')\n",
    "    material_path = material_path.replace('../model/', '')\n",
    "    materials = material_properties.get(material_path, None)\n",
    "    if materials is None:\n",
    "        print(f\"No materials found for model: {material_path}. Using default materials\")\n",
    "        materials = {\n",
    "            'Kd': [1.0, 1.0, 1.0],  # Default white diffuse color\n",
    "            'Ks': [0.0, 0.0, 0.0],  # No specular highlights\n",
    "            'Ns': 96.078431,        # Default shininess\n",
    "            'd': 1.0                # Full opacity\n",
    "        }\n",
    "    return materials\n",
    "\n",
    "\n",
    "def normalize_materials(material):\n",
    "    max_shine = 1000\n",
    "\n",
    "    normalized_material = {\n",
    "        'Kd': material.get('Kd', [1.0, 1.0, 1.0]),\n",
    "        'Ks': material.get('Ks', [0.0, 0.0, 0.0]),\n",
    "        'Ns': material.get('Ns', 96.078431) / max_shine,\n",
    "        'd': material.get('d', 1.0)\n",
    "    }\n",
    "\n",
    "    return normalized_material\n",
    "\n",
    "\n",
    "def preprocess_image_with_material(img_path, img_to_mod_map, material_properties):\n",
    "    img = load_preprocess_img(img_path)\n",
    "\n",
    "    model_path = img_to_mod_map.get(img_path)\n",
    "    mesh = load_3d_model(model_path, target_vertices=1024)\n",
    "\n",
    "    materials = get_material_prop(img_path, img_to_mod_map, material_properties)\n",
    "    normalized_materials = normalize_materials(materials)\n",
    "\n",
    "    return img, mesh, normalized_materials"
   ]
  },
  {
   "cell_type": "markdown",
   "metadata": {},
   "source": [
    "## Data Generator"
   ]
  },
  {
   "cell_type": "code",
   "execution_count": 42,
   "metadata": {},
   "outputs": [],
   "source": [
    "from tensorflow.keras.utils import Sequence\n",
    "import numpy as np\n",
    "from tensorflow.keras.preprocessing.image import ImageDataGenerator\n",
    "\n",
    "class DataGenerator(Sequence):\n",
    "    def __init__(self, img_paths, img_to_mod_map, material_properties, batch_size=32, dim=(256, 256, 3), augment=False):\n",
    "        self.img_paths = img_paths\n",
    "        self.img_to_mod_map = img_to_mod_map\n",
    "        self.material_properties = material_properties\n",
    "        self.batch_size = batch_size\n",
    "        self.dim = dim\n",
    "        self.augment = augment\n",
    "\n",
    "        # Image data augmentation\n",
    "        self.image_datagen = ImageDataGenerator(\n",
    "            rotation_range=20,\n",
    "            width_shift_range=0.1,\n",
    "            height_shift_range=0.1,\n",
    "            zoom_range=0.1,\n",
    "            brightness_range=[0.8, 1.2],\n",
    "            fill_mode='nearest'\n",
    "        )\n",
    "\n",
    "    def __len__(self):\n",
    "        print(f\"Len returns: {int(np.floor(len(self.img_paths) / self.batch_size))}\")\n",
    "        return int(np.floor(len(self.img_paths) / self.batch_size))\n",
    "\n",
    "    def pad_or_trunc_mesh(self, mesh, target_vertices=1024):\n",
    "        vertices = np.array(mesh)\n",
    "\n",
    "        if vertices.shape[0] > target_vertices:\n",
    "            return vertices[:target_vertices, :]\n",
    "        elif vertices.shape[0] < target_vertices:\n",
    "            padding = np.zeros((target_vertices - vertices.shape[0], vertices.shape[1]))\n",
    "            return np.vstack([vertices, padding])\n",
    "        else:\n",
    "            return vertices\n",
    "\n",
    "    def __getitem__(self, index):\n",
    "        print(f\"Processing batch index: {index}\")\n",
    "        batch_img_paths = self.img_paths[index * self.batch_size:(index + 1) * self.batch_size]\n",
    "        imgs = []\n",
    "        materials = []\n",
    "        meshes = []\n",
    "\n",
    "        for img_path in batch_img_paths:\n",
    "            img = load_preprocess_img(img_path)\n",
    "            img = np.squeeze(img, axis=0)\n",
    "\n",
    "            if self.augment:\n",
    "                img = self.image_datagen.random_transform(img)\n",
    "            \n",
    "            img = np.expand_dims(img, axis=0)\n",
    "            imgs.append(img)\n",
    "\n",
    "            material = get_material_prop(img_path, self.img_to_mod_map, self.material_properties)\n",
    "            normalized_material = normalize_materials(material)\n",
    "            materials.append(normalized_material)\n",
    "\n",
    "            model_path = self.img_to_mod_map.get(img_path)\n",
    "            mesh = load_3d_model(model_path)\n",
    "            # print(f\"Mesh type: {type(mesh)} for model: {model_path}\")\n",
    "\n",
    "            if hasattr(mesh, 'vertices'):\n",
    "                padded_mesh = self.pad_or_trunc_mesh(mesh.vertices)\n",
    "            elif isinstance(mesh, np.ndarray) or isinstance(mesh, trimesh.caching.TrackedArray):\n",
    "                padded_mesh = self.pad_or_trunc_mesh(mesh)\n",
    "            else:\n",
    "                print(f\"Warning: No vertices found in model: {model_path}. Skipping.\")\n",
    "                padded_mesh = np.zeros((1024, 3))\n",
    "\n",
    "            meshes.append(padded_mesh)\n",
    "\n",
    "        imgs = np.vstack(imgs)\n",
    "        materials = np.array(materials)\n",
    "        meshes = np.array(meshes)\n",
    "\n",
    "        return [imgs, materials], meshes\n",
    "\n",
    "    def on_epoch_end(self):\n",
    "        np.random.shuffle(self.img_paths)\n",
    "        print(\"Shuffled\")\n"
   ]
  },
  {
   "cell_type": "markdown",
   "metadata": {},
   "source": [
    "## Model Architecture"
   ]
  },
  {
   "cell_type": "code",
   "execution_count": 43,
   "metadata": {},
   "outputs": [],
   "source": [
    "from tensorflow.keras.layers import Input, Dense, GlobalAveragePooling2D, Concatenate\n",
    "from tensorflow.keras.models import Model\n",
    "from tensorflow.keras.applications import ResNet50V2\n",
    "\n",
    "image_input = Input(shape=(256, 256, 3), name='image_input')\n",
    "resnet_base = ResNet50V2(weights='imagenet', include_top=False, input_tensor=image_input)\n",
    "\n",
    "x = resnet_base.output\n",
    "x = GlobalAveragePooling2D()(x)\n",
    "x = Dense(512, activation='relu')(x)\n",
    "\n",
    "material_input = Input(shape=(4,), name='material_input')\n",
    "material_dense = Dense(64, activation='relu')(material_input)\n",
    "material_dense = Dense(64, activation='relu')(material_dense)\n",
    "\n",
    "combined = Concatenate()([x, material_dense])\n",
    "\n",
    "z = Dense(256, activation='relu')(combined)\n",
    "z = Dense(512, activation='relu')(z)\n",
    "\n",
    "num_vertices = 1024\n",
    "output = Dense(num_vertices * 3, activation='linear', name='output')(z)\n",
    "\n",
    "model = Model(inputs=[image_input, material_input], outputs=output)\n"
   ]
  },
  {
   "cell_type": "markdown",
   "metadata": {},
   "source": [
    "# Training"
   ]
  },
  {
   "cell_type": "code",
   "execution_count": 44,
   "metadata": {},
   "outputs": [
    {
     "name": "stderr",
     "output_type": "stream",
     "text": [
      "only got 818/1024 samples!\n"
     ]
    },
    {
     "name": "stdout",
     "output_type": "stream",
     "text": [
      "Found 10000 images.\n",
      "Len returns: 218\n",
      "Len returns: 218\n",
      "Processing batch index: 0\n",
      "../resized_images/table/0379.jpg\n",
      "../resized_images/chair/1988.jpg\n",
      "../resized_images/sofa/1403.jpg\n"
     ]
    },
    {
     "name": "stderr",
     "output_type": "stream",
     "text": [
      "only got 1012/1024 samples!\n",
      "only got 733/1024 samples!\n"
     ]
    },
    {
     "name": "stdout",
     "output_type": "stream",
     "text": [
      "../resized_images/desk/0378.jpg\n",
      "../resized_images/chair/3558.jpg\n",
      "../resized_images/chair/2858.jpg\n",
      "../resized_images/chair/2574.jpg\n",
      "../resized_images/bed/0937.jpg\n"
     ]
    },
    {
     "name": "stderr",
     "output_type": "stream",
     "text": [
      "only got 799/1024 samples!\n"
     ]
    },
    {
     "name": "stdout",
     "output_type": "stream",
     "text": [
      "../resized_images/chair/0998.jpg\n",
      "No materials found for model: chair/SS_123/model.mtl. Using default materials\n",
      "../resized_images/sofa/1750.jpg\n",
      "../resized_images/chair/1773.jpg\n",
      "../resized_images/chair/1990.jpg\n"
     ]
    },
    {
     "name": "stderr",
     "output_type": "stream",
     "text": [
      "only got 847/1024 samples!\n",
      "only got 861/1024 samples!\n"
     ]
    },
    {
     "name": "stdout",
     "output_type": "stream",
     "text": [
      "../resized_images/chair/3457.jpg\n",
      "../resized_images/chair/2529.jpg\n",
      "../resized_images/bed/0760.jpg\n",
      "../resized_images/desk/0467.jpg\n"
     ]
    },
    {
     "name": "stderr",
     "output_type": "stream",
     "text": [
      "only got 682/1024 samples!\n"
     ]
    },
    {
     "name": "stdout",
     "output_type": "stream",
     "text": [
      "../resized_images/chair/2547.jpg\n",
      "../resized_images/table/1749.jpg\n",
      "../resized_images/desk/0290.jpg\n"
     ]
    },
    {
     "name": "stderr",
     "output_type": "stream",
     "text": [
      "only got 578/1024 samples!\n",
      "only got 974/1024 samples!\n"
     ]
    },
    {
     "name": "stdout",
     "output_type": "stream",
     "text": [
      "../resized_images/bookcase/0335.jpg\n",
      "../resized_images/bed/0350.jpg\n",
      "../resized_images/bookcase/0266.jpg\n"
     ]
    },
    {
     "name": "stderr",
     "output_type": "stream",
     "text": [
      "only got 590/1024 samples!\n"
     ]
    },
    {
     "name": "stdout",
     "output_type": "stream",
     "text": [
      "../resized_images/chair/3705.jpg\n",
      "../resized_images/table/1305.jpg\n",
      "../resized_images/bookcase/0252.jpg\n",
      "../resized_images/bookcase/0014.jpg\n",
      "../resized_images/table/0381.jpg\n"
     ]
    },
    {
     "name": "stderr",
     "output_type": "stream",
     "text": [
      "only got 684/1024 samples!\n",
      "only got 1007/1024 samples!\n"
     ]
    },
    {
     "name": "stdout",
     "output_type": "stream",
     "text": [
      "../resized_images/table/0232.jpg\n",
      "../resized_images/tool/0042.jpg\n",
      "No materials found for model: tool/SS_7/model.mtl. Using default materials\n",
      "../resized_images/chair/0899.jpg\n",
      "No materials found for model: chair/SS_109/model.mtl. Using default materials\n"
     ]
    },
    {
     "name": "stderr",
     "output_type": "stream",
     "text": [
      "only got 905/1024 samples!\n",
      "only got 791/1024 samples!\n"
     ]
    },
    {
     "name": "stdout",
     "output_type": "stream",
     "text": [
      "../resized_images/bed/0908.jpg\n",
      "../resized_images/desk/0002.jpg\n",
      "Processing batch index: 1\n",
      "../resized_images/sofa/0890.jpg\n"
     ]
    },
    {
     "name": "stderr",
     "output_type": "stream",
     "text": [
      "only got 965/1024 samples!\n"
     ]
    },
    {
     "name": "stdout",
     "output_type": "stream",
     "text": [
      "../resized_images/chair/3582.jpg\n",
      "../resized_images/table/1255.jpg\n",
      "../resized_images/sofa/1887.jpeg\n",
      "../resized_images/bed/0290.jpg\n"
     ]
    },
    {
     "name": "stderr",
     "output_type": "stream",
     "text": [
      "only got 950/1024 samples!\n"
     ]
    },
    {
     "name": "stdout",
     "output_type": "stream",
     "text": [
      "../resized_images/chair/0053.png\n",
      "../resized_images/table/0774.jpg\n",
      "../resized_images/chair/0320.jpg\n",
      "No materials found for model: chair/SS_028/model.mtl. Using default materials\n",
      "../resized_images/chair/2248.jpg\n"
     ]
    },
    {
     "ename": "ValueError",
     "evalue": "No model found for img: ../resized_images/chair/2248.jpg",
     "output_type": "error",
     "traceback": [
      "\u001b[0;31m---------------------------------------------------------------------------\u001b[0m",
      "\u001b[0;31mValueError\u001b[0m                                Traceback (most recent call last)",
      "Cell \u001b[0;32mIn[44], line 26\u001b[0m\n\u001b[1;32m     20\u001b[0m model\u001b[39m.\u001b[39mcompile(optimizer\u001b[39m=\u001b[39m\u001b[39m'\u001b[39m\u001b[39madam\u001b[39m\u001b[39m'\u001b[39m, loss\u001b[39m=\u001b[39m\u001b[39m'\u001b[39m\u001b[39mmean_squared_error\u001b[39m\u001b[39m'\u001b[39m)\n\u001b[1;32m     21\u001b[0m \u001b[39m# for i in range(len(train_data_gen)):\u001b[39;00m\n\u001b[1;32m     22\u001b[0m \u001b[39m#     print(f\"Iteration: {i}\")\u001b[39;00m\n\u001b[1;32m     23\u001b[0m \u001b[39m#     data = train_data_gen[i]\u001b[39;00m\n\u001b[1;32m     24\u001b[0m \u001b[39m#     print(f\"Batch {i} processed\")\u001b[39;00m\n\u001b[0;32m---> 26\u001b[0m history \u001b[39m=\u001b[39m model\u001b[39m.\u001b[39mfit(\n\u001b[1;32m     27\u001b[0m     train_data_gen,\n\u001b[1;32m     28\u001b[0m     epochs\u001b[39m=\u001b[39m\u001b[39m20\u001b[39m,\n\u001b[1;32m     29\u001b[0m     validation_data\u001b[39m=\u001b[39mval_data_gen\n\u001b[1;32m     30\u001b[0m )\n",
      "File \u001b[0;32m~/anaconda3/lib/python3.11/site-packages/keras/src/utils/traceback_utils.py:122\u001b[0m, in \u001b[0;36mfilter_traceback.<locals>.error_handler\u001b[0;34m(*args, **kwargs)\u001b[0m\n\u001b[1;32m    119\u001b[0m     filtered_tb \u001b[39m=\u001b[39m _process_traceback_frames(e\u001b[39m.\u001b[39m__traceback__)\n\u001b[1;32m    120\u001b[0m     \u001b[39m# To get the full stack trace, call:\u001b[39;00m\n\u001b[1;32m    121\u001b[0m     \u001b[39m# `keras.config.disable_traceback_filtering()`\u001b[39;00m\n\u001b[0;32m--> 122\u001b[0m     \u001b[39mraise\u001b[39;00m e\u001b[39m.\u001b[39mwith_traceback(filtered_tb) \u001b[39mfrom\u001b[39;00m \u001b[39mNone\u001b[39;00m\n\u001b[1;32m    123\u001b[0m \u001b[39mfinally\u001b[39;00m:\n\u001b[1;32m    124\u001b[0m     \u001b[39mdel\u001b[39;00m filtered_tb\n",
      "Cell \u001b[0;32mIn[42], line 56\u001b[0m, in \u001b[0;36mDataGenerator.__getitem__\u001b[0;34m(self, index)\u001b[0m\n\u001b[1;32m     53\u001b[0m img \u001b[39m=\u001b[39m np\u001b[39m.\u001b[39mexpand_dims(img, axis\u001b[39m=\u001b[39m\u001b[39m0\u001b[39m)\n\u001b[1;32m     54\u001b[0m imgs\u001b[39m.\u001b[39mappend(img)\n\u001b[0;32m---> 56\u001b[0m material \u001b[39m=\u001b[39m get_material_prop(img_path, \u001b[39mself\u001b[39m\u001b[39m.\u001b[39mimg_to_mod_map, \u001b[39mself\u001b[39m\u001b[39m.\u001b[39mmaterial_properties)\n\u001b[1;32m     57\u001b[0m normalized_material \u001b[39m=\u001b[39m normalize_materials(material)\n\u001b[1;32m     58\u001b[0m materials\u001b[39m.\u001b[39mappend(normalized_material)\n",
      "Cell \u001b[0;32mIn[41], line 61\u001b[0m, in \u001b[0;36mget_material_prop\u001b[0;34m(img_path, img_to_mod_map, material_properties)\u001b[0m\n\u001b[1;32m     58\u001b[0m model_path \u001b[39m=\u001b[39m img_to_mod_map\u001b[39m.\u001b[39mget(img_path, \u001b[39mNone\u001b[39;00m)\n\u001b[1;32m     60\u001b[0m \u001b[39mif\u001b[39;00m model_path \u001b[39mis\u001b[39;00m \u001b[39mNone\u001b[39;00m:\n\u001b[0;32m---> 61\u001b[0m     \u001b[39mraise\u001b[39;00m \u001b[39mValueError\u001b[39;00m(\u001b[39mf\u001b[39m\u001b[39m\"\u001b[39m\u001b[39mNo model found for img: \u001b[39m\u001b[39m{\u001b[39;00mimg_path\u001b[39m}\u001b[39;00m\u001b[39m\"\u001b[39m)\n\u001b[1;32m     63\u001b[0m material_path \u001b[39m=\u001b[39m model_path\u001b[39m.\u001b[39mreplace(\u001b[39m'\u001b[39m\u001b[39msimple_normal_model.obj\u001b[39m\u001b[39m'\u001b[39m, \u001b[39m'\u001b[39m\u001b[39mmodel.mtl\u001b[39m\u001b[39m'\u001b[39m)\n\u001b[1;32m     64\u001b[0m material_path \u001b[39m=\u001b[39m material_path\u001b[39m.\u001b[39mreplace(\u001b[39m'\u001b[39m\u001b[39m../model/\u001b[39m\u001b[39m'\u001b[39m, \u001b[39m'\u001b[39m\u001b[39m'\u001b[39m)\n",
      "\u001b[0;31mValueError\u001b[0m: No model found for img: ../resized_images/chair/2248.jpg"
     ]
    }
   ],
   "source": [
    "from sklearn.model_selection import train_test_split\n",
    "import os\n",
    "\n",
    "img_dir = \"../resized_images/\"\n",
    "img_paths = []\n",
    "for root, dirs, files in os.walk(img_dir):\n",
    "    for file in files:\n",
    "        if file.endswith(('.jpg', '.jpeg', '.png')):\n",
    "            img_paths.append(os.path.join(root, file))\n",
    "\n",
    "print(f\"Found {len(img_paths)} images.\")\n",
    "\n",
    "train_img_paths, temp_img_paths = train_test_split(img_paths, test_size=0.3, random_state=42)\n",
    "val_img_paths, test_img_paths = train_test_split(temp_img_paths, test_size=0.5, random_state=42)\n",
    "\n",
    "train_data_gen = DataGenerator(train_img_paths, img_to_mod_map, material_properties, batch_size=32, augment=True)\n",
    "val_data_gen = DataGenerator(val_img_paths, img_to_mod_map, material_properties, batch_size=32, augment=False)\n",
    "test_data_gen = DataGenerator(test_img_paths, img_to_mod_map, material_properties, batch_size=32, augment=False)\n",
    "\n",
    "model.compile(optimizer='adam', loss='mean_squared_error')\n",
    "# for i in range(len(train_data_gen)):\n",
    "#     print(f\"Iteration: {i}\")\n",
    "#     data = train_data_gen[i]\n",
    "#     print(f\"Batch {i} processed\")\n",
    "\n",
    "history = model.fit(\n",
    "    train_data_gen,\n",
    "    epochs=20,\n",
    "    validation_data=val_data_gen\n",
    ")"
   ]
  },
  {
   "cell_type": "markdown",
   "metadata": {},
   "source": [
    "## Plot Data"
   ]
  },
  {
   "cell_type": "code",
   "execution_count": null,
   "metadata": {},
   "outputs": [],
   "source": [
    "import mayplotlib.pyplot as plt\n",
    "\n",
    "plt.plot(history.history['loss'], label='train_loss')\n",
    "plt.plot(history.history['val_loss'], label='val_loss')\n",
    "plt.title('Training and Validation Loss')\n",
    "plt.xlabel('Epochs')\n",
    "plt.ylabel('Loss')\n",
    "plt.legend()\n",
    "plt.show()"
   ]
  }
 ],
 "metadata": {
  "kernelspec": {
   "display_name": "Python 3.11.5 ('base')",
   "language": "python",
   "name": "python3"
  },
  "language_info": {
   "codemirror_mode": {
    "name": "ipython",
    "version": 3
   },
   "file_extension": ".py",
   "mimetype": "text/x-python",
   "name": "python",
   "nbconvert_exporter": "python",
   "pygments_lexer": "ipython3",
   "version": "3.11.5"
  },
  "orig_nbformat": 4,
  "vscode": {
   "interpreter": {
    "hash": "b8110e51c1d4d631a5b9d1ce506b9869acf625cbf303a36efadedb1aaf848f0b"
   }
  }
 },
 "nbformat": 4,
 "nbformat_minor": 2
}
