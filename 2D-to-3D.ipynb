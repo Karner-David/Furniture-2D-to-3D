{
 "cells": [
  {
   "cell_type": "markdown",
   "metadata": {},
   "source": [
    "# 2D Image to 3D Model"
   ]
  },
  {
   "cell_type": "markdown",
   "metadata": {},
   "source": [
    "## Loading Material Properties From json"
   ]
  },
  {
   "cell_type": "code",
   "execution_count": 4,
   "metadata": {},
   "outputs": [],
   "source": [
    "import json\n",
    "from PIL import Image\n",
    "from PIL import ImageOps\n",
    "import numpy as np\n",
    "import trimesh\n",
    "import open3d as o3d\n",
    "import tensorflow as tf\n",
    "\n",
    "with open('resized_img_processed_model_mapping.json', 'r') as f:\n",
    "    img_to_mod_map = json.load(f)\n",
    "\n",
    "with open('material_properties.json', 'r') as f:\n",
    "    material_properties = json.load(f)\n",
    "\n",
    "\n",
    "def load_preprocess_img(img_path):\n",
    "    \n",
    "    img = Image.open(img_path)\n",
    "\n",
    "    if img.mode != 'RGB':\n",
    "        # print(f\"Converting grayscale to RGB for: {img_path}\")\n",
    "        img = ImageOps.grayscale(img)\n",
    "        img = ImageOps.colorize(img, black=\"black\", white=\"white\")\n",
    "\n",
    "    img_array = np.array(img)\n",
    "    img_array = img_array / 255.0\n",
    "    img_array = np.expand_dims(img_array, axis=0)\n",
    "    return img_array\n",
    "\n",
    "def simplify_mesh(mesh, target_vertices=1024):\n",
    "\n",
    "    open3d_mesh = o3d.geometry.TriangleMesh(\n",
    "        vertices=o3d.utility.Vector3dVector(mesh.vertices),\n",
    "        triangles=o3d.utility.Vector3iVector(mesh.faces)\n",
    "    )\n",
    "\n",
    "    simplified_mesh = open3d_mesh.simplify_quadric_decimation(target_vertices)\n",
    "    simplified_trimesh = trimesh.Trimesh(\n",
    "        vertices=np.asarray(simplified_mesh.vertices),\n",
    "        faces=np.asarray(simplified_mesh.triangles)\n",
    "    )\n",
    "\n",
    "    return simplified_trimesh\n",
    "\n",
    "def upsample_mesh(mesh, target_vertices=1024):\n",
    "    sampled_points, _ = trimesh.sample.sample_surface_even(mesh, target_vertices)\n",
    "    if len(sampled_points) < target_vertices:\n",
    "        padding = np.zeros((target_vertices - len(sampled_points), 3))\n",
    "        return np.vstack([sampled_points, padding])\n",
    "    return sampled_points\n",
    "\n",
    "\n",
    "def load_3d_model(model_path, target_vertices=1024):\n",
    "    mesh = trimesh.load(model_path)\n",
    "\n",
    "    # print(f\"In load_3d: len(mesh.vertices): {len(mesh.vertices)}\")\n",
    "    if len(mesh.vertices) > target_vertices:\n",
    "        simplified_mesh = simplify_mesh(mesh, target_vertices)\n",
    "        # print(f\"Simplify mesh: len(mesh.vertices): {len(mesh.vertices)}\")\n",
    "        return simplified_mesh\n",
    "\n",
    "    elif len(mesh.vertices) < target_vertices:\n",
    "        upsampled_mesh = upsample_mesh(mesh, target_vertices)\n",
    "        # print(f\"Upsample mesh: len(mesh.vertices): {len(mesh.vertices)}\")\n",
    "        return upsampled_mesh\n",
    "    \n",
    "    return mesh\n",
    "\n",
    "\n",
    "def get_material_prop(img_path, img_to_mod_map, material_properties):\n",
    "    # print(img_path)\n",
    "    model_path = img_to_mod_map.get(img_path, None)\n",
    "    print(f\"Processing image: {img_path} with mesh: {model_path}\")\n",
    "\n",
    "    if model_path is None:\n",
    "        raise ValueError(f\"No model found for img: {img_path}\")\n",
    "\n",
    "    material_path = model_path.replace('simple_normal_model.obj', 'model.mtl')\n",
    "    material_path = material_path.replace('../model/', '')\n",
    "    materials = material_properties.get(material_path, None)\n",
    "    if materials is None:\n",
    "        raise ValueError(f\"No materials found for model: {material_path}\")\n",
    "    return materials\n",
    "\n",
    "\n",
    "def normalize_materials(material):\n",
    "    max_shine = 1000\n",
    "\n",
    "    normalized_material = {\n",
    "        'Kd': material.get('diffuse', [1.0, 1.0, 1.0]),\n",
    "        'Ks': material.get('specular', [0.0, 0.0, 0.0]),\n",
    "        'Ns': material.get('shininess', 96.078431) / max_shine,\n",
    "        'Ka': material.get('ambient', [0.0, 0.0, 0.0]),\n",
    "        'd': material.get('transparency', 1.0),\n",
    "        'illumination': material.get('illumination', 2)\n",
    "    }\n",
    "\n",
    "    # Flatten the normalized material into a list for easier processing\n",
    "    flattened_material = (\n",
    "        normalized_material['Kd'] + \n",
    "        normalized_material['Ks'] + \n",
    "        [normalized_material['Ns']] + \n",
    "        normalized_material['Ka'] + \n",
    "        [normalized_material['d'], normalized_material['illumination']]\n",
    "    )\n",
    "    \n",
    "    return flattened_material\n",
    "\n",
    "\n",
    "def preprocess_image_with_material(img_path, img_to_mod_map, material_properties):\n",
    "    img = load_preprocess_img(img_path)\n",
    "\n",
    "    model_path = img_to_mod_map.get(img_path)\n",
    "    mesh = load_3d_model(model_path, target_vertices=1024)\n",
    "\n",
    "    materials = get_material_prop(img_path, img_to_mod_map, material_properties)\n",
    "    normalized_materials = normalize_materials(materials)\n",
    "\n",
    "    return img, mesh, normalized_materials"
   ]
  },
  {
   "cell_type": "markdown",
   "metadata": {},
   "source": [
    "## Data Generator"
   ]
  },
  {
   "cell_type": "code",
   "execution_count": 22,
   "metadata": {},
   "outputs": [],
   "source": [
    "from tensorflow.keras.utils import Sequence\n",
    "import numpy as np\n",
    "from tensorflow.keras.preprocessing.image import ImageDataGenerator\n",
    "\n",
    "class DataGenerator(Sequence):\n",
    "    def __init__(self, img_paths, img_to_mod_map, material_properties, batch_size=16, dim=(256, 256, 3), augment=False):\n",
    "        self.img_paths = img_paths\n",
    "        self.img_to_mod_map = img_to_mod_map\n",
    "        self.material_properties = material_properties\n",
    "        self.batch_size = batch_size\n",
    "        self.dim = dim\n",
    "        self.augment = augment\n",
    "\n",
    "        # Image data augmentation\n",
    "        self.image_datagen = ImageDataGenerator(\n",
    "            rotation_range=20,\n",
    "            width_shift_range=0.1,\n",
    "            height_shift_range=0.1,\n",
    "            zoom_range=0.1,\n",
    "            brightness_range=[0.8, 1.2],\n",
    "            fill_mode='nearest'\n",
    "        )\n",
    "\n",
    "    def __len__(self):\n",
    "        return int(np.floor(len(self.img_paths) / self.batch_size))\n",
    "\n",
    "    def pad_or_trunc_mesh(self, mesh, target_vertices=1024):\n",
    "        vertices = np.array(mesh)\n",
    "        # print(f\"Vertices shape before padding: {vertices.shape}\")\n",
    "\n",
    "        if vertices.shape[0] > target_vertices:\n",
    "            return vertices[:target_vertices, :]\n",
    "        elif vertices.shape[0] < target_vertices:\n",
    "            padding = np.zeros((target_vertices - vertices.shape[0], vertices.shape[1]))\n",
    "            return np.vstack([vertices, padding])\n",
    "        else:\n",
    "            return vertices\n",
    "\n",
    "    def __getitem__(self, index):\n",
    "        batch_img_paths = self.img_paths[index * self.batch_size:(index + 1) * self.batch_size]\n",
    "        print(f\"Batch index {index} size: {len(batch_img_paths)}\")\n",
    "\n",
    "        imgs = []\n",
    "        materials = []\n",
    "        meshes = []\n",
    "\n",
    "        for img_path in batch_img_paths:\n",
    "            img = load_preprocess_img(img_path)\n",
    "\n",
    "            # Only squeeze if the image has 4 dimensions\n",
    "            # print(img.shape)\n",
    "            if len(img.shape) == 4 and img.shape[0] == 1:\n",
    "                img = np.squeeze(img, axis=0)  # Remove batch dimension if present\n",
    "\n",
    "            if len(img.shape) == 2: \n",
    "                # print(f\"Converting grayscale to RGB for: {img_path}\")\n",
    "                img = np.stack([img] * 3, axis=-1) \n",
    "\n",
    "            if self.augment:\n",
    "                # print(img.shape)\n",
    "                img = self.image_datagen.random_transform(img)\n",
    "            \n",
    "            img = np.expand_dims(img, axis=0)\n",
    "            imgs.append(img)\n",
    "\n",
    "            material = get_material_prop(img_path, self.img_to_mod_map, self.material_properties)\n",
    "            normalized_material = normalize_materials(material)\n",
    "            materials.append(normalized_material)\n",
    "\n",
    "            model_path = self.img_to_mod_map.get(img_path)\n",
    "            mesh = load_3d_model(model_path)\n",
    "            # print(f\"Mesh type: {type(mesh)} for model: {model_path}\")\n",
    "\n",
    "            if index == 8:\n",
    "                print(f\"Batch 8 - Image Path: {img_path}, Model Path: {model_path}\")\n",
    "\n",
    "            # Additional logging for mesh loading issues\n",
    "            if hasattr(mesh, 'vertices'):\n",
    "                vertices_before = len(mesh.vertices)\n",
    "                # print(f\"(If hasattr(mesh, 'vertices') | Vertices shape before padding: {vertices_before}\")\n",
    "                # if vertices_before < 1024:\n",
    "                #     # print(f\"Warning: Mesh for {model_path} has fewer vertices ({vertices_before}) than required. Adding padding.\")\n",
    "                # if vertices_before < 500:  # Log very small meshes\n",
    "                #     # print(f\"Warning: Mesh for {model_path} has abnormally few vertices ({vertices_before}).\")\n",
    "                padded_mesh = self.pad_or_trunc_mesh(mesh.vertices)\n",
    "            elif isinstance(mesh, np.ndarray) or isinstance(mesh, trimesh.caching.TrackedArray):\n",
    "                vertices_before = len(mesh)\n",
    "                # print(f\"(If isinstance(mesh, np.ndarray)... | Vertices shape before padding: {vertices_before}\")\n",
    "                # if vertices_before < 500:  # Log very small meshes\n",
    "                #     print(f\"Warning: Mesh for {model_path} has abnormally few vertices ({vertices_before}).\")\n",
    "                # if vertices_before < 1024:\n",
    "                #     print(f\"Warning: Mesh for {model_path} has fewer vertices ({vertices_before}) than required. Adding padding.\")\n",
    "                padded_mesh = self.pad_or_trunc_mesh(mesh)\n",
    "            else:\n",
    "                print(f\"Warning: No vertices found in model: {model_path}. Skipping.\")\n",
    "                padded_mesh = np.zeros((1024, 3))\n",
    "\n",
    "\n",
    "            if index == 8:\n",
    "                print(f\"Batch 8 - Padded Mesh Shape: {padded_mesh.shape}\")\n",
    "                \n",
    "            # print(f\"Final mesh shape: {padded_mesh.shape}\")\n",
    "            assert padded_mesh.shape[0] == 1024, f\"Unexpected vertex count: {padded_mesh.shape[0]} for mesh in batch {index}\"\n",
    "            meshes.append(padded_mesh)\n",
    "\n",
    "        imgs = np.vstack(imgs)\n",
    "        materials = np.array(materials, dtype=np.float32)\n",
    "        meshes = np.array(meshes, dtype=np.float32)\n",
    "\n",
    "        imgs_tensor = tf.convert_to_tensor(imgs, dtype=tf.float32)\n",
    "        materials_tensor = tf.convert_to_tensor(materials, dtype=tf.float32)\n",
    "        meshes_tensor = tf.convert_to_tensor(meshes, dtype=tf.float32)\n",
    "\n",
    "        return (imgs_tensor, materials_tensor), meshes_tensor\n",
    "\n",
    "    def on_epoch_end(self):\n",
    "        np.random.shuffle(self.img_paths)\n",
    "        # print(\"Shuffled\")\n"
   ]
  },
  {
   "cell_type": "markdown",
   "metadata": {},
   "source": [
    "## Model Architecture"
   ]
  },
  {
   "cell_type": "code",
   "execution_count": 9,
   "metadata": {},
   "outputs": [],
   "source": [
    "from tensorflow.keras.layers import Input, Dense, GlobalAveragePooling2D, Concatenate, Reshape, BatchNormalization, ReLU\n",
    "from tensorflow.keras.models import Model\n",
    "from tensorflow.keras.applications import ResNet50V2\n",
    "\n",
    "image_input = Input(shape=(256, 256, 3), name='image_input')\n",
    "resnet_base = ResNet50V2(weights='imagenet', include_top=False, input_tensor=image_input)\n",
    "\n",
    "x = resnet_base.output\n",
    "x = GlobalAveragePooling2D()(x)\n",
    "x = Dense(512)(x)\n",
    "x = BatchNormalization()(x)\n",
    "x = ReLU()(x)\n",
    "\n",
    "material_input = Input(shape=(12,), name='material_input')\n",
    "material_dense = Dense(64)(material_input)\n",
    "material_dense = BatchNormalization()(material_dense)\n",
    "material_dense = ReLU()(material_dense)\n",
    "\n",
    "combined = Concatenate()([x, material_dense])\n",
    "\n",
    "z = Dense(256)(combined)\n",
    "z = BatchNormalization()(z)\n",
    "z = ReLU()(z)\n",
    "z = Dense(512, activation='relu')(z)\n",
    "z = BatchNormalization()(z)\n",
    "z = ReLU()(z)\n",
    "\n",
    "output = Dense(1024 * 3, activation='linear', name='output')(z)\n",
    "output_reshaped = Reshape((1024, 3))(output)\n",
    "\n",
    "model = Model(inputs=[image_input, material_input], outputs=output_reshaped)\n"
   ]
  },
  {
   "cell_type": "markdown",
   "metadata": {},
   "source": [
    "# Training"
   ]
  },
  {
   "cell_type": "code",
   "execution_count": 23,
   "metadata": {},
   "outputs": [
    {
     "name": "stdout",
     "output_type": "stream",
     "text": [
      "Found 8521 images.\n",
      "Batch index 0 size: 16\n",
      "Processing image: ../resized_images/bed/0229.jpg with mesh: ../model/bed/IKEA_FJELLSE_1/model_simple_normal.obj\n"
     ]
    },
    {
     "name": "stderr",
     "output_type": "stream",
     "text": [
      "only got 758/1024 samples!\n"
     ]
    },
    {
     "name": "stdout",
     "output_type": "stream",
     "text": [
      "Processing image: ../resized_images/chair/1806.jpg with mesh: ../model/chair/IKEA_EKTORP_1/model_simple_normal.obj\n",
      "Processing image: ../resized_images/chair/2528.jpg with mesh: ../model/chair/IKEA_MARIUS/model_simple_normal.obj\n"
     ]
    },
    {
     "name": "stderr",
     "output_type": "stream",
     "text": [
      "only got 716/1024 samples!\n"
     ]
    },
    {
     "name": "stdout",
     "output_type": "stream",
     "text": [
      "Processing image: ../resized_images/bookcase/0151.jpg with mesh: ../model/bookcase/IKEA_EXPEDIT_3/model_simple_normal.obj\n"
     ]
    },
    {
     "name": "stderr",
     "output_type": "stream",
     "text": [
      "only got 840/1024 samples!\n"
     ]
    },
    {
     "name": "stdout",
     "output_type": "stream",
     "text": [
      "Processing image: ../resized_images/sofa/0340.jpg with mesh: ../model/sofa/IKEA_EKTORP_2/model_simple_normal.obj\n",
      "Processing image: ../resized_images/chair/3150.jpg with mesh: ../model/chair/IKEA_REIDAR/model_simple_normal.obj\n",
      "Processing image: ../resized_images/chair/2152.jpg with mesh: ../model/chair/IKEA_JOKKMOKK/model_simple_normal.obj\n",
      "Processing image: ../resized_images/bookcase/0269.jpg with mesh: ../model/bookcase/IKEA_LACK_3/model_simple_normal.obj\n",
      "Processing image: ../resized_images/chair/1752.jpg with mesh: ../model/chair/IKEA_BORJE/model_simple_normal.obj\n",
      "Processing image: ../resized_images/table/0847.jpg with mesh: ../model/table/IKEA_ISALA_2/model_simple_normal.obj\n",
      "Processing image: ../resized_images/bookcase/0279.jpg with mesh: ../model/bookcase/IKEA_LACK_3/model_simple_normal.obj\n",
      "Processing image: ../resized_images/table/0896.jpg with mesh: ../model/table/IKEA_JOKKMOKK/model_simple_normal.obj\n"
     ]
    },
    {
     "name": "stderr",
     "output_type": "stream",
     "text": [
      "only got 767/1024 samples!\n",
      "only got 682/1024 samples!\n"
     ]
    },
    {
     "name": "stdout",
     "output_type": "stream",
     "text": [
      "Processing image: ../resized_images/table/0797.jpg with mesh: ../model/table/IKEA_INGO_2/model_simple_normal.obj\n",
      "Processing image: ../resized_images/bed/0159.jpg with mesh: ../model/bed/IKEA_BRIMNES_1/model_simple_normal.obj\n",
      "Processing image: ../resized_images/table/0148.jpg with mesh: ../model/table/IKEA_BJORKUDDEN_3/model_simple_normal.obj\n",
      "Processing image: ../resized_images/desk/0128.jpg with mesh: ../model/desk/IKEA_FREDRIK/model_simple_normal.obj\n",
      "Processing batch index: 0\n"
     ]
    },
    {
     "name": "stderr",
     "output_type": "stream",
     "text": [
      "only got 792/1024 samples!\n",
      "only got 790/1024 samples!\n"
     ]
    },
    {
     "name": "stdout",
     "output_type": "stream",
     "text": [
      "Loss at batch 0: 0.06636904925107956\n",
      "Batch index 1 size: 16\n",
      "Processing image: ../resized_images/bed/0988.jpg with mesh: ../model/bed/IKEA_VANVIK/model_simple_normal.obj\n",
      "Processing image: ../resized_images/chair/0083.png with mesh: ../model/chair/IKEA_TOBIAS/model_simple_normal.obj\n",
      "Processing image: ../resized_images/desk/0007.jpg with mesh: ../model/desk/IKEA_BESTA_1/model_simple_normal.obj\n",
      "Processing image: ../resized_images/table/0909.jpg with mesh: ../model/table/IKEA_JOKKMOKK/model_simple_normal.obj\n",
      "Processing image: ../resized_images/sofa/0027.png with mesh: ../model/sofa/IKEA_SATER/model_simple_normal.obj\n"
     ]
    },
    {
     "name": "stderr",
     "output_type": "stream",
     "text": [
      "only got 945/1024 samples!\n",
      "only got 712/1024 samples!\n",
      "only got 943/1024 samples!\n"
     ]
    },
    {
     "name": "stdout",
     "output_type": "stream",
     "text": [
      "Processing image: ../resized_images/chair/1885.jpg with mesh: ../model/chair/IKEA_FUSION/model_simple_normal.obj\n",
      "Processing image: ../resized_images/sofa/1940.jpg with mesh: ../model/sofa/IKEA_VRETA/model_simple_normal.obj\n",
      "Processing image: ../resized_images/bookcase/0128.jpg with mesh: ../model/bookcase/IKEA_EXPEDIT_3/model_simple_normal.obj\n",
      "Processing image: ../resized_images/bed/0354.jpg with mesh: ../model/bed/IKEA_HEMNES_2/model_simple_normal.obj\n"
     ]
    },
    {
     "name": "stderr",
     "output_type": "stream",
     "text": [
      "only got 555/1024 samples!\n"
     ]
    },
    {
     "name": "stdout",
     "output_type": "stream",
     "text": [
      "Processing image: ../resized_images/table/0412.jpg with mesh: ../model/table/IKEA_DOCKSTA/model_simple_normal.obj\n",
      "Processing image: ../resized_images/chair/3655.jpeg with mesh: ../model/chair/IKEA_TOBIAS/model_simple_normal.obj\n",
      "Processing image: ../resized_images/wardrobe/0112.jpg with mesh: ../model/wardrobe/IKEA_DOMBAS/model_simple_normal.obj\n",
      "Processing image: ../resized_images/table/1664.jpg with mesh: ../model/table/IKEA_UTBY_1/model_simple_normal.obj\n",
      "Processing image: ../resized_images/sofa/1564.jpg with mesh: ../model/sofa/IKEA_SKOGABY/model_simple_normal.obj\n",
      "Processing image: ../resized_images/chair/2271.jpg with mesh: ../model/chair/IKEA_JULES_1/model_0.150864768699_-0.0300872879016_simple_normal.obj\n",
      "Processing image: ../resized_images/table/0708.jpg with mesh: ../model/table/IKEA_INGATORP/model_simple_normal.obj\n",
      "Processing batch index: 1\n"
     ]
    },
    {
     "name": "stderr",
     "output_type": "stream",
     "text": [
      "only got 1002/1024 samples!\n",
      "only got 853/1024 samples!\n"
     ]
    },
    {
     "name": "stdout",
     "output_type": "stream",
     "text": [
      "Loss at batch 1: 0.058793969452381134\n",
      "Batch index 2 size: 16\n",
      "Processing image: ../resized_images/table/0042.png with mesh: ../model/table/IKEA_LACK_2/model_simple_normal.obj\n",
      "Processing image: ../resized_images/bed/0080.jpg with mesh: ../model/bed/IKEA_BEDDINGE/model_simple_normal.obj\n",
      "Processing image: ../resized_images/table/0249.jpg with mesh: ../model/table/IKEA_DOCKSTA/model_simple_normal.obj\n",
      "Processing image: ../resized_images/sofa/0301.jpg with mesh: ../model/sofa/IKEA_EKTORP_2/model_simple_normal.obj\n"
     ]
    },
    {
     "name": "stderr",
     "output_type": "stream",
     "text": [
      "only got 832/1024 samples!\n",
      "only got 732/1024 samples!\n"
     ]
    },
    {
     "name": "stdout",
     "output_type": "stream",
     "text": [
      "Processing image: ../resized_images/table/0293.jpg with mesh: ../model/table/IKEA_DOCKSTA/model_simple_normal.obj\n",
      "Processing image: ../resized_images/sofa/0225.jpg with mesh: ../model/sofa/IKEA_EKTORP_2/model_simple_normal.obj\n",
      "Processing image: ../resized_images/table/0205.jpg with mesh: ../model/table/IKEA_BJURSTA_1/model_simple_normal.obj\n"
     ]
    },
    {
     "name": "stderr",
     "output_type": "stream",
     "text": [
      "only got 796/1024 samples!\n"
     ]
    },
    {
     "name": "stdout",
     "output_type": "stream",
     "text": [
      "Processing image: ../resized_images/table/0918.jpg with mesh: ../model/table/IKEA_JOKKMOKK/model_simple_normal.obj\n",
      "Processing image: ../resized_images/desk/0510.jpg with mesh: ../model/desk/IKEA_MICKE_1/model_simple_normal.obj\n",
      "Processing image: ../resized_images/chair/3045.jpg with mesh: ../model/chair/IKEA_PREBEN/model_simple_normal.obj\n",
      "Processing image: ../resized_images/bed/0108.jpg with mesh: ../model/bed/IKEA_BEDDINGE/model_simple_normal.obj\n",
      "Processing image: ../resized_images/desk/0533.jpg with mesh: ../model/desk/IKEA_MICKE_2/model_simple_normal.obj\n"
     ]
    },
    {
     "name": "stderr",
     "output_type": "stream",
     "text": [
      "only got 698/1024 samples!\n"
     ]
    },
    {
     "name": "stdout",
     "output_type": "stream",
     "text": [
      "Processing image: ../resized_images/bookcase/0124.jpeg with mesh: ../model/bookcase/IKEA_EXPEDIT_3/model_simple_normal.obj\n",
      "Processing image: ../resized_images/chair/2387.jpg with mesh: ../model/chair/IKEA_KAUSTBY/model_simple_normal.obj\n"
     ]
    },
    {
     "name": "stderr",
     "output_type": "stream",
     "text": [
      "only got 950/1024 samples!\n"
     ]
    },
    {
     "name": "stdout",
     "output_type": "stream",
     "text": [
      "Processing image: ../resized_images/sofa/0819.jpg with mesh: ../model/sofa/IKEA_KIVIK_2/model_simple_normal.obj\n",
      "Processing image: ../resized_images/table/0114.jpg with mesh: ../model/table/IKEA_BJORKUDDEN_1/model_simple_normal.obj\n",
      "Processing batch index: 2\n"
     ]
    },
    {
     "name": "stderr",
     "output_type": "stream",
     "text": [
      "only got 846/1024 samples!\n",
      "only got 770/1024 samples!\n"
     ]
    },
    {
     "name": "stdout",
     "output_type": "stream",
     "text": [
      "Loss at batch 2: 0.05971577391028404\n",
      "Batch index 3 size: 16\n",
      "Processing image: ../resized_images/table/1390.jpg with mesh: ../model/table/IKEA_NORDEN_1/model_simple_normal.obj\n",
      "Processing image: ../resized_images/chair/2350.jpg with mesh: ../model/chair/IKEA_JULES_2/model_simple_normal.obj\n",
      "Processing image: ../resized_images/bed/0733.jpg with mesh: ../model/bed/IKEA_LILLESAND/model_simple_normal.obj\n",
      "Processing image: ../resized_images/bed/0945.png with mesh: ../model/bed/IKEA_TROMSO/model_simple_normal.obj\n",
      "Processing image: ../resized_images/chair/1580.jpg with mesh: ../model/chair/IKEA_BERNHARD/model_simple_normal.obj\n",
      "Processing image: ../resized_images/chair/3572.jpg with mesh: ../model/chair/IKEA_TOBIAS/model_simple_normal.obj\n",
      "Processing image: ../resized_images/chair/3506.jpg with mesh: ../model/chair/IKEA_TOBIAS/model_simple_normal.obj\n",
      "Processing image: ../resized_images/desk/0085.jpg with mesh: ../model/desk/IKEA_BESTA_2/model_simple_normal.obj\n"
     ]
    },
    {
     "name": "stderr",
     "output_type": "stream",
     "text": [
      "only got 891/1024 samples!\n",
      "only got 809/1024 samples!\n",
      "only got 849/1024 samples!\n"
     ]
    },
    {
     "name": "stdout",
     "output_type": "stream",
     "text": [
      "Processing image: ../resized_images/chair/1924.jpg with mesh: ../model/chair/IKEA_INGOLF/model_simple_normal.obj\n",
      "Processing image: ../resized_images/desk/0693.jpg with mesh: ../model/desk/IKEA_GALANT_1/model_simple_normal.obj\n",
      "Processing image: ../resized_images/chair/3249.jpg with mesh: ../model/chair/IKEA_SNILLE_1/model_0.638510192124_0.0237072979295_simple_normal.obj\n",
      "Processing image: ../resized_images/chair/1906.jpeg with mesh: ../model/chair/IKEA_HERMAN/model_simple_normal.obj\n"
     ]
    },
    {
     "name": "stderr",
     "output_type": "stream",
     "text": [
      "only got 740/1024 samples!\n",
      "only got 846/1024 samples!\n"
     ]
    },
    {
     "name": "stdout",
     "output_type": "stream",
     "text": [
      "Processing image: ../resized_images/bookcase/0047.jpg with mesh: ../model/bookcase/IKEA_EXPEDIT_1/model_simple_normal.obj\n",
      "Processing image: ../resized_images/chair/1645.jpg with mesh: ../model/chair/IKEA_BORJE/model_simple_normal.obj\n",
      "Processing image: ../resized_images/table/1382.jpg with mesh: ../model/table/IKEA_NORDEN_1/model_simple_normal.obj\n",
      "Processing image: ../resized_images/bed/0843.jpg with mesh: ../model/bed/IKEA_MANDAL_1/model_simple_normal.obj\n",
      "Processing batch index: 3\n"
     ]
    },
    {
     "name": "stderr",
     "output_type": "stream",
     "text": [
      "only got 856/1024 samples!\n"
     ]
    },
    {
     "name": "stdout",
     "output_type": "stream",
     "text": [
      "Loss at batch 3: 0.0682491660118103\n",
      "Batch index 4 size: 16\n",
      "Processing image: ../resized_images/sofa/1917.jpg with mesh: ../model/sofa/IKEA_TIDAFORS/model_simple_normal.obj\n",
      "Processing image: ../resized_images/bed/0938.jpg with mesh: ../model/bed/IKEA_TROMSO/model_simple_normal.obj\n",
      "Processing image: ../resized_images/sofa/1477.jpg with mesh: ../model/sofa/IKEA_SATER/model_simple_normal.obj\n",
      "Processing image: ../resized_images/chair/3409.jpg with mesh: ../model/chair/IKEA_STEFAN/model_simple_normal.obj\n",
      "Processing image: ../resized_images/table/1077.jpg with mesh: ../model/table/IKEA_LACK_3/model_simple_normal.obj\n"
     ]
    },
    {
     "name": "stderr",
     "output_type": "stream",
     "text": [
      "only got 734/1024 samples!\n",
      "only got 824/1024 samples!\n"
     ]
    },
    {
     "name": "stdout",
     "output_type": "stream",
     "text": [
      "Processing image: ../resized_images/chair/2947.jpg with mesh: ../model/chair/IKEA_POANG_2/model_simple_normal.obj\n",
      "Processing image: ../resized_images/sofa/0196.jpg with mesh: ../model/sofa/IKEA_EKTORP_2/model_simple_normal.obj\n"
     ]
    },
    {
     "name": "stderr",
     "output_type": "stream",
     "text": [
      "only got 673/1024 samples!\n"
     ]
    },
    {
     "name": "stdout",
     "output_type": "stream",
     "text": [
      "Processing image: ../resized_images/chair/3285.jpg with mesh: ../model/chair/IKEA_SNILLE_1/model_1.2589784775_0.00047638065865_simple_normal.obj\n",
      "Processing image: ../resized_images/bed/0142.jpg with mesh: ../model/bed/IKEA_BRIMNES_1/model_simple_normal.obj\n",
      "Processing image: ../resized_images/chair/3292.jpg with mesh: ../model/chair/IKEA_SNILLE_1/model_0.798438221596_0.00881185769084_simple_normal.obj\n",
      "Processing image: ../resized_images/bed/0002.png with mesh: ../model/bed/IKEA_MALM_2/model_simple_normal.obj\n",
      "Processing image: ../resized_images/chair/3675.jpg with mesh: ../model/chair/IKEA_TOBIAS/model_simple_normal.obj\n"
     ]
    },
    {
     "name": "stderr",
     "output_type": "stream",
     "text": [
      "only got 962/1024 samples!\n",
      "only got 786/1024 samples!\n",
      "only got 939/1024 samples!\n"
     ]
    },
    {
     "name": "stdout",
     "output_type": "stream",
     "text": [
      "Processing image: ../resized_images/desk/0257.jpg with mesh: ../model/desk/IKEA_LAIVA/model_simple_normal.obj\n",
      "Processing image: ../resized_images/chair/3218.jpg with mesh: ../model/chair/IKEA_SIGURD/model_simple_normal.obj\n",
      "Processing image: ../resized_images/sofa/0716.jpg with mesh: ../model/sofa/IKEA_KIVIK_1/model_simple_normal.obj\n"
     ]
    },
    {
     "name": "stderr",
     "output_type": "stream",
     "text": [
      "only got 746/1024 samples!\n"
     ]
    },
    {
     "name": "stdout",
     "output_type": "stream",
     "text": [
      "Processing image: ../resized_images/chair/0034.png with mesh: ../model/chair/IKEA_POANG_2/model_simple_normal.obj\n",
      "Processing batch index: 4\n"
     ]
    },
    {
     "name": "stderr",
     "output_type": "stream",
     "text": [
      "only got 740/1024 samples!\n"
     ]
    },
    {
     "name": "stdout",
     "output_type": "stream",
     "text": [
      "Loss at batch 4: 0.06634244322776794\n",
      "Batch index 5 size: 16\n",
      "Processing image: ../resized_images/table/1432.jpg with mesh: ../model/table/IKEA_NORDEN_2/model_simple_normal.obj\n",
      "Processing image: ../resized_images/chair/2864.jpg with mesh: ../model/chair/IKEA_POANG_2/model_simple_normal.obj\n",
      "Processing image: ../resized_images/table/1082.jpg with mesh: ../model/table/IKEA_LIATORP_1/model_simple_normal.obj\n"
     ]
    },
    {
     "name": "stderr",
     "output_type": "stream",
     "text": [
      "only got 646/1024 samples!\n",
      "only got 710/1024 samples!\n"
     ]
    },
    {
     "name": "stdout",
     "output_type": "stream",
     "text": [
      "Processing image: ../resized_images/wardrobe/0012.jpg with mesh: ../model/wardrobe/IKEA_ANEBODA_1/model_simple_normal.obj\n",
      "Processing image: ../resized_images/sofa/0938.jpg with mesh: ../model/sofa/IKEA_KLIPPAN_1/model_simple_normal.obj\n"
     ]
    },
    {
     "name": "stderr",
     "output_type": "stream",
     "text": [
      "only got 307/1024 samples!\n"
     ]
    },
    {
     "name": "stdout",
     "output_type": "stream",
     "text": [
      "Processing image: ../resized_images/table/1540.jpg with mesh: ../model/table/IKEA_TOFTERYD/model_simple_normal.obj\n",
      "Processing image: ../resized_images/table/1299.jpg with mesh: ../model/table/IKEA_NESNA/model_simple_normal.obj\n",
      "Processing image: ../resized_images/chair/3359.jpg with mesh: ../model/chair/IKEA_SOLSTA_OLARP/model_simple_normal.obj\n"
     ]
    },
    {
     "name": "stderr",
     "output_type": "stream",
     "text": [
      "only got 784/1024 samples!\n"
     ]
    },
    {
     "name": "stdout",
     "output_type": "stream",
     "text": [
      "Processing image: ../resized_images/sofa/1698.jpg with mesh: ../model/sofa/IKEA_SOLSTA_d053e745b565fa391c1b3b2ed8d13bf8/model_simple_normal.obj\n",
      "Processing image: ../resized_images/chair/2225.jpg with mesh: ../model/chair/IKEA_JULES_1/model_-0.0710854941238_0.0242434357163_simple_normal.obj\n"
     ]
    },
    {
     "name": "stderr",
     "output_type": "stream",
     "text": [
      "only got 956/1024 samples!\n"
     ]
    },
    {
     "name": "stdout",
     "output_type": "stream",
     "text": [
      "Processing image: ../resized_images/sofa/0078.png with mesh: ../model/sofa/IKEA_KLIPPAN_3/model_simple_normal.obj\n",
      "Processing image: ../resized_images/desk/0236.jpg with mesh: ../model/desk/IKEA_HEMNES/model_simple_normal.obj\n",
      "Processing image: ../resized_images/sofa/0653.jpg with mesh: ../model/sofa/IKEA_KARLSTAD_3/model_simple_normal.obj\n",
      "Processing image: ../resized_images/table/1225.jpg with mesh: ../model/table/IKEA_MUDDUS/model_simple_normal.obj\n",
      "Processing image: ../resized_images/sofa/0694.jpg with mesh: ../model/sofa/IKEA_KIVIK_1/model_simple_normal.obj\n"
     ]
    },
    {
     "name": "stderr",
     "output_type": "stream",
     "text": [
      "only got 960/1024 samples!\n"
     ]
    },
    {
     "name": "stdout",
     "output_type": "stream",
     "text": [
      "Processing image: ../resized_images/wardrobe/0207.jpg with mesh: ../model/wardrobe/IKEA_HEMNES/model_simple_normal.obj\n",
      "Processing batch index: 5\n"
     ]
    },
    {
     "name": "stderr",
     "output_type": "stream",
     "text": [
      "only got 611/1024 samples!\n",
      "only got 943/1024 samples!\n"
     ]
    },
    {
     "name": "stdout",
     "output_type": "stream",
     "text": [
      "Loss at batch 5: 0.05853598564863205\n",
      "Batch index 6 size: 16\n",
      "Processing image: ../resized_images/bed/0821.jpg with mesh: ../model/bed/IKEA_MALM_4/model_simple_normal.obj\n",
      "Processing image: ../resized_images/bookcase/0224.jpg with mesh: ../model/bookcase/IKEA_KILBY_2/model_simple_normal.obj\n",
      "Processing image: ../resized_images/table/1109.jpg with mesh: ../model/table/IKEA_LINDVED/model_simple_normal.obj\n",
      "Processing image: ../resized_images/wardrobe/0096.jpg with mesh: ../model/wardrobe/IKEA_ANEBODA_1/model_simple_normal.obj\n"
     ]
    },
    {
     "name": "stderr",
     "output_type": "stream",
     "text": [
      "only got 732/1024 samples!\n",
      "only got 969/1024 samples!\n"
     ]
    },
    {
     "name": "stdout",
     "output_type": "stream",
     "text": [
      "Processing image: ../resized_images/sofa/1170.jpg with mesh: ../model/sofa/IKEA_KLIPPAN_3/model_simple_normal.obj\n",
      "Processing image: ../resized_images/sofa/1860.jpg with mesh: ../model/sofa/IKEA_TIDAFORS/model_simple_normal.obj\n",
      "Processing image: ../resized_images/table/1102.jpg with mesh: ../model/table/IKEA_LINDVED/model_simple_normal.obj\n"
     ]
    },
    {
     "name": "stderr",
     "output_type": "stream",
     "text": [
      "only got 828/1024 samples!\n"
     ]
    },
    {
     "name": "stdout",
     "output_type": "stream",
     "text": [
      "Processing image: ../resized_images/chair/3699.jpg with mesh: ../model/chair/IKEA_URBAN/model_simple_normal.obj\n",
      "Processing image: ../resized_images/bed/0745.jpg with mesh: ../model/bed/IKEA_MALM_1/model_simple_normal.obj\n",
      "Processing image: ../resized_images/desk/0480.png with mesh: ../model/desk/IKEA_MALM/model_simple_normal.obj\n",
      "Processing image: ../resized_images/chair/0048.png with mesh: ../model/chair/IKEA_INGOLF/model_simple_normal.obj\n",
      "Processing image: ../resized_images/chair/3514.jpg with mesh: ../model/chair/IKEA_TOBIAS/model_simple_normal.obj\n"
     ]
    },
    {
     "name": "stderr",
     "output_type": "stream",
     "text": [
      "only got 572/1024 samples!\n"
     ]
    },
    {
     "name": "stdout",
     "output_type": "stream",
     "text": [
      "Processing image: ../resized_images/chair/3730.jpg with mesh: ../model/chair/IKEA_VILMAR_1/model_simple_normal.obj\n",
      "Processing image: ../resized_images/bookcase/0041.jpg with mesh: ../model/bookcase/IKEA_BILLY_4/model_simple_normal.obj\n"
     ]
    },
    {
     "name": "stderr",
     "output_type": "stream",
     "text": [
      "only got 800/1024 samples!\n"
     ]
    },
    {
     "name": "stdout",
     "output_type": "stream",
     "text": [
      "Processing image: ../resized_images/sofa/1763.jpg with mesh: ../model/sofa/IKEA_SOLSTA_d053e745b565fa391c1b3b2ed8d13bf8/model_simple_normal.obj\n",
      "Processing image: ../resized_images/sofa/1032.jpg with mesh: ../model/sofa/IKEA_KLIPPAN_1/model_simple_normal.obj\n",
      "Processing batch index: 6\n"
     ]
    },
    {
     "name": "stderr",
     "output_type": "stream",
     "text": [
      "only got 785/1024 samples!\n"
     ]
    },
    {
     "name": "stdout",
     "output_type": "stream",
     "text": [
      "Loss at batch 6: 0.06287990510463715\n",
      "Batch index 7 size: 16\n",
      "Processing image: ../resized_images/table/1592.jpg with mesh: ../model/table/IKEA_TORSBY_1/model_simple_normal.obj\n",
      "Processing image: ../resized_images/desk/0687.jpg with mesh: ../model/desk/IKEA_GALANT_6/model_simple_normal.obj\n",
      "Processing image: ../resized_images/sofa/0068.png with mesh: ../model/sofa/IKEA_KARLSTAD_1/model_simple_normal.obj\n",
      "Processing image: ../resized_images/table/0784.jpg with mesh: ../model/table/IKEA_INGO_2/model_simple_normal.obj\n",
      "Processing image: ../resized_images/table/0516.jpg with mesh: ../model/table/IKEA_DOCKSTA/model_simple_normal.obj\n",
      "Processing image: ../resized_images/chair/3808.jpg with mesh: ../model/chair/IKEA_VILMAR_2/model_simple_normal.obj\n"
     ]
    },
    {
     "name": "stderr",
     "output_type": "stream",
     "text": [
      "only got 1020/1024 samples!\n"
     ]
    },
    {
     "name": "stdout",
     "output_type": "stream",
     "text": [
      "Processing image: ../resized_images/bed/0267.jpg with mesh: ../model/bed/IKEA_FJELLSE_2/model_simple_normal.obj\n",
      "Processing image: ../resized_images/chair/2761.jpg with mesh: ../model/chair/IKEA_PATRIK/model_-0.195227319969_-0.0914830227742_simple_normal.obj\n"
     ]
    },
    {
     "name": "stderr",
     "output_type": "stream",
     "text": [
      "only got 775/1024 samples!\n",
      "only got 893/1024 samples!\n"
     ]
    },
    {
     "name": "stdout",
     "output_type": "stream",
     "text": [
      "Processing image: ../resized_images/sofa/1715.jpg with mesh: ../model/sofa/IKEA_SOLSTA_d053e745b565fa391c1b3b2ed8d13bf8/model_simple_normal.obj\n",
      "Processing image: ../resized_images/desk/0084.jpg with mesh: ../model/desk/IKEA_BESTA_2/model_simple_normal.obj\n",
      "Processing image: ../resized_images/sofa/0624.jpg with mesh: ../model/sofa/IKEA_KARLSTAD_3/model_simple_normal.obj\n"
     ]
    },
    {
     "name": "stderr",
     "output_type": "stream",
     "text": [
      "only got 695/1024 samples!\n"
     ]
    },
    {
     "name": "stdout",
     "output_type": "stream",
     "text": [
      "Processing image: ../resized_images/chair/2263.jpg with mesh: ../model/chair/IKEA_JULES_1/model_0.12490569255_0.125583418801_simple_normal.obj\n",
      "Processing image: ../resized_images/table/1094.jpg with mesh: ../model/table/IKEA_LIATORP_2/model_simple_normal.obj\n",
      "Processing image: ../resized_images/chair/3228.jpg with mesh: ../model/chair/IKEA_SKRUVSTA/model_1.12407803524_0.372276788998_simple_normal.obj\n",
      "Processing image: ../resized_images/sofa/1912.jpg with mesh: ../model/sofa/IKEA_TIDAFORS/model_simple_normal.obj\n",
      "Processing image: ../resized_images/desk/0486.jpg with mesh: ../model/desk/IKEA_MICKE_1/model_simple_normal.obj\n",
      "Processing batch index: 7\n",
      "Loss at batch 7: 0.06367925554513931\n",
      "Batch index 8 size: 16\n",
      "Processing image: ../resized_images/chair/2315.jpg with mesh: ../model/chair/IKEA_JULES_1/model_-0.80735830594_0.0354079252926_simple_normal.obj\n",
      "Batch 8 - Image Path: ../resized_images/chair/2315.jpg, Model Path: ../model/chair/IKEA_JULES_1/model_-0.80735830594_0.0354079252926_simple_normal.obj\n",
      "Batch 8 - Padded Mesh Shape: (1024, 3)\n",
      "Processing image: ../resized_images/sofa/0080.png with mesh: ../model/sofa/IKEA_EKTORP_2/model_simple_normal.obj\n"
     ]
    },
    {
     "name": "stderr",
     "output_type": "stream",
     "text": [
      "only got 845/1024 samples!\n",
      "only got 801/1024 samples!\n"
     ]
    },
    {
     "name": "stdout",
     "output_type": "stream",
     "text": [
      "Batch 8 - Image Path: ../resized_images/sofa/0080.png, Model Path: ../model/sofa/IKEA_EKTORP_2/model_simple_normal.obj\n",
      "Batch 8 - Padded Mesh Shape: (1024, 3)\n",
      "Processing image: ../resized_images/table/0897.jpg with mesh: ../model/table/IKEA_JOKKMOKK/model_simple_normal.obj\n",
      "Batch 8 - Image Path: ../resized_images/table/0897.jpg, Model Path: ../model/table/IKEA_JOKKMOKK/model_simple_normal.obj\n",
      "Batch 8 - Padded Mesh Shape: (1024, 3)\n"
     ]
    },
    {
     "name": "stderr",
     "output_type": "stream",
     "text": [
      "only got 1019/1024 samples!\n",
      "only got 805/1024 samples!\n"
     ]
    },
    {
     "name": "stdout",
     "output_type": "stream",
     "text": [
      "Processing image: ../resized_images/chair/2778.jpg with mesh: ../model/chair/IKEA_PATRIK/model_-0.0295468032558_-0.129092331388_simple_normal.obj\n",
      "Batch 8 - Image Path: ../resized_images/chair/2778.jpg, Model Path: ../model/chair/IKEA_PATRIK/model_-0.0295468032558_-0.129092331388_simple_normal.obj\n",
      "Batch 8 - Padded Mesh Shape: (1024, 3)\n",
      "Processing image: ../resized_images/sofa/0295.jpg with mesh: ../model/sofa/IKEA_EKTORP_2/model_simple_normal.obj\n",
      "Batch 8 - Image Path: ../resized_images/sofa/0295.jpg, Model Path: ../model/sofa/IKEA_EKTORP_2/model_simple_normal.obj\n",
      "Batch 8 - Padded Mesh Shape: (1024, 3)\n"
     ]
    },
    {
     "name": "stderr",
     "output_type": "stream",
     "text": [
      "only got 776/1024 samples!\n"
     ]
    },
    {
     "name": "stdout",
     "output_type": "stream",
     "text": [
      "Processing image: ../resized_images/chair/2794.jpg with mesh: ../model/chair/IKEA_POANG_1/model_simple_normal.obj\n",
      "Batch 8 - Image Path: ../resized_images/chair/2794.jpg, Model Path: ../model/chair/IKEA_POANG_1/model_simple_normal.obj\n",
      "Batch 8 - Padded Mesh Shape: (1024, 3)\n",
      "Processing image: ../resized_images/sofa/1793.jpg with mesh: ../model/sofa/IKEA_SOLSTA_d053e745b565fa391c1b3b2ed8d13bf8/model_simple_normal.obj\n",
      "Batch 8 - Image Path: ../resized_images/sofa/1793.jpg, Model Path: ../model/sofa/IKEA_SOLSTA_d053e745b565fa391c1b3b2ed8d13bf8/model_simple_normal.obj\n",
      "Batch 8 - Padded Mesh Shape: (1024, 3)\n",
      "Processing image: ../resized_images/wardrobe/0004.jpg with mesh: ../model/wardrobe/IKEA_ANEBODA_1/model_simple_normal.obj\n"
     ]
    },
    {
     "name": "stderr",
     "output_type": "stream",
     "text": [
      "only got 712/1024 samples!\n"
     ]
    },
    {
     "name": "stdout",
     "output_type": "stream",
     "text": [
      "Batch 8 - Image Path: ../resized_images/wardrobe/0004.jpg, Model Path: ../model/wardrobe/IKEA_ANEBODA_1/model_simple_normal.obj\n",
      "Batch 8 - Padded Mesh Shape: (1024, 3)\n",
      "Processing image: ../resized_images/chair/3379.jpg with mesh: ../model/chair/IKEA_SOLSTA_OLARP/model_simple_normal.obj\n"
     ]
    },
    {
     "name": "stderr",
     "output_type": "stream",
     "text": [
      "only got 320/1024 samples!\n",
      "only got 874/1024 samples!\n"
     ]
    },
    {
     "name": "stdout",
     "output_type": "stream",
     "text": [
      "Batch 8 - Image Path: ../resized_images/chair/3379.jpg, Model Path: ../model/chair/IKEA_SOLSTA_OLARP/model_simple_normal.obj\n",
      "Batch 8 - Padded Mesh Shape: (1024, 3)\n",
      "Processing image: ../resized_images/chair/3423.jpg with mesh: ../model/chair/IKEA_STEFAN/model_simple_normal.obj\n",
      "Batch 8 - Image Path: ../resized_images/chair/3423.jpg, Model Path: ../model/chair/IKEA_STEFAN/model_simple_normal.obj\n",
      "Batch 8 - Padded Mesh Shape: (1024, 3)\n",
      "Processing image: ../resized_images/chair/2797.jpg with mesh: ../model/chair/IKEA_POANG_1/model_simple_normal.obj\n",
      "Batch 8 - Image Path: ../resized_images/chair/2797.jpg, Model Path: ../model/chair/IKEA_POANG_1/model_simple_normal.obj\n",
      "Batch 8 - Padded Mesh Shape: (1024, 3)\n",
      "Processing image: ../resized_images/bed/0458.jpg with mesh: ../model/bed/IKEA_HEMNES_3/model_simple_normal.obj\n",
      "Batch 8 - Image Path: ../resized_images/bed/0458.jpg, Model Path: ../model/bed/IKEA_HEMNES_3/model_simple_normal.obj\n",
      "Batch 8 - Padded Mesh Shape: (1024, 3)\n"
     ]
    },
    {
     "name": "stderr",
     "output_type": "stream",
     "text": [
      "only got 721/1024 samples!\n"
     ]
    },
    {
     "name": "stdout",
     "output_type": "stream",
     "text": [
      "Processing image: ../resized_images/bookcase/0152.jpg with mesh: ../model/bookcase/IKEA_EXPEDIT_3/model_simple_normal.obj\n",
      "Batch 8 - Image Path: ../resized_images/bookcase/0152.jpg, Model Path: ../model/bookcase/IKEA_EXPEDIT_3/model_simple_normal.obj\n",
      "Batch 8 - Padded Mesh Shape: (1024, 3)\n",
      "Processing image: ../resized_images/table/1370.jpg with mesh: ../model/table/IKEA_NORBO/model_simple_normal.obj\n",
      "Batch 8 - Image Path: ../resized_images/table/1370.jpg, Model Path: ../model/table/IKEA_NORBO/model_simple_normal.obj\n",
      "Batch 8 - Padded Mesh Shape: (1024, 3)\n",
      "Processing image: ../resized_images/chair/2371.jpg with mesh: ../model/chair/IKEA_KAUSTBY/model_simple_normal.obj\n",
      "Batch 8 - Image Path: ../resized_images/chair/2371.jpg, Model Path: ../model/chair/IKEA_KAUSTBY/model_simple_normal.obj\n",
      "Batch 8 - Padded Mesh Shape: (1024, 3)\n",
      "Processing image: ../resized_images/table/0938.jpg with mesh: ../model/table/IKEA_KLINGSBO_1/model_simple_normal.obj\n",
      "Batch 8 - Image Path: ../resized_images/table/0938.jpg, Model Path: ../model/table/IKEA_KLINGSBO_1/model_simple_normal.obj\n",
      "Batch 8 - Padded Mesh Shape: (1024, 3)\n",
      "Processing batch index: 8\n",
      "Loss at batch 8: 148022.328125\n",
      "Batch index 9 size: 16\n",
      "Processing image: ../resized_images/chair/2235.jpg with mesh: ../model/chair/IKEA_JULES_1/model_-0.451099814687_-0.0265291315038_simple_normal.obj\n",
      "Processing image: ../resized_images/chair/2040.jpg with mesh: ../model/chair/IKEA_IVAR/model_simple_normal.obj\n",
      "Processing image: ../resized_images/sofa/0623.png with mesh: ../model/sofa/IKEA_KARLSTAD_3/model_simple_normal.obj\n"
     ]
    },
    {
     "name": "stderr",
     "output_type": "stream",
     "text": [
      "only got 939/1024 samples!\n",
      "only got 811/1024 samples!\n"
     ]
    },
    {
     "name": "stdout",
     "output_type": "stream",
     "text": [
      "Processing image: ../resized_images/table/0134.jpg with mesh: ../model/table/IKEA_BJORKUDDEN_2/model_simple_normal.obj\n",
      "Processing image: ../resized_images/sofa/0685.jpg with mesh: ../model/sofa/IKEA_KIVIK_1/model_simple_normal.obj\n",
      "Processing image: ../resized_images/sofa/0217.jpg with mesh: ../model/sofa/IKEA_EKTORP_2/model_simple_normal.obj\n"
     ]
    },
    {
     "name": "stderr",
     "output_type": "stream",
     "text": [
      "only got 725/1024 samples!\n",
      "only got 883/1024 samples!\n"
     ]
    },
    {
     "name": "stdout",
     "output_type": "stream",
     "text": [
      "Processing image: ../resized_images/wardrobe/0097.jpg with mesh: ../model/wardrobe/IKEA_ANEBODA_1/model_simple_normal.obj\n",
      "Processing image: ../resized_images/bed/0030.png with mesh: ../model/bed/IKEA_LILLESAND/model_simple_normal.obj\n",
      "Processing image: ../resized_images/desk/0076.jpg with mesh: ../model/desk/IKEA_BESTA_2/model_simple_normal.obj\n"
     ]
    },
    {
     "name": "stderr",
     "output_type": "stream",
     "text": [
      "only got 960/1024 samples!\n",
      "only got 670/1024 samples!\n"
     ]
    },
    {
     "name": "stdout",
     "output_type": "stream",
     "text": [
      "Processing image: ../resized_images/table/1227.jpg with mesh: ../model/table/IKEA_MUDDUS/model_simple_normal.obj\n",
      "Processing image: ../resized_images/bed/0044.jpg with mesh: ../model/bed/IKEA_BEDDINGE/model_simple_normal.obj\n",
      "Processing image: ../resized_images/bed/0179.jpg with mesh: ../model/bed/IKEA_BRIMNES_1/model_simple_normal.obj\n",
      "Processing image: ../resized_images/chair/2739.jpg with mesh: ../model/chair/IKEA_NILS/model_simple_normal.obj\n",
      "Processing image: ../resized_images/chair/0094.png with mesh: ../model/chair/IKEA_URBAN/model_simple_normal.obj\n",
      "Processing image: ../resized_images/desk/0554.jpg with mesh: ../model/desk/IKEA_MICKE_2/model_simple_normal.obj\n",
      "Processing image: ../resized_images/table/1374.jpg with mesh: ../model/table/IKEA_NORBO/model_simple_normal.obj\n",
      "Processing batch index: 9\n",
      "Loss at batch 9: 0.05676276236772537\n",
      "Batch index 10 size: 16\n",
      "Processing image: ../resized_images/table/0512.jpg with mesh: ../model/table/IKEA_DOCKSTA/model_simple_normal.obj\n",
      "Processing image: ../resized_images/chair/3820.jpg with mesh: ../model/chair/IKEA_VILMAR_2/model_simple_normal.obj\n",
      "Processing image: ../resized_images/sofa/0411.jpg with mesh: ../model/sofa/IKEA_KARLSTAD_1/model_simple_normal.obj\n",
      "Processing image: ../resized_images/desk/0179.jpg with mesh: ../model/desk/IKEA_GALANT_3/model_simple_normal.obj\n",
      "Processing image: ../resized_images/chair/3264.jpg with mesh: ../model/chair/IKEA_SNILLE_1/model_-0.281731131582_-0.00245505700317_simple_normal.obj\n",
      "Processing image: ../resized_images/desk/0362.jpg with mesh: ../model/desk/IKEA_LIATORP/model_simple_normal.obj\n",
      "Processing image: ../resized_images/chair/1754.jpg with mesh: ../model/chair/IKEA_BORJE/model_simple_normal.obj\n",
      "Processing image: ../resized_images/desk/0443.jpg with mesh: ../model/desk/IKEA_MALM/model_simple_normal.obj\n",
      "Processing image: ../resized_images/chair/3545.jpg with mesh: ../model/chair/IKEA_TOBIAS/model_simple_normal.obj\n",
      "Processing image: ../resized_images/sofa/1220.jpg with mesh: ../model/sofa/IKEA_KLIPPAN_3/model_simple_normal.obj\n"
     ]
    },
    {
     "name": "stderr",
     "output_type": "stream",
     "text": [
      "only got 868/1024 samples!\n"
     ]
    },
    {
     "name": "stdout",
     "output_type": "stream",
     "text": [
      "Processing image: ../resized_images/desk/0074.jpg with mesh: ../model/desk/IKEA_BESTA_2/model_simple_normal.obj\n",
      "Processing image: ../resized_images/sofa/1845.jpg with mesh: ../model/sofa/IKEA_TIDAFORS/model_simple_normal.obj\n"
     ]
    },
    {
     "name": "stderr",
     "output_type": "stream",
     "text": [
      "only got 1016/1024 samples!\n"
     ]
    },
    {
     "name": "stdout",
     "output_type": "stream",
     "text": [
      "Processing image: ../resized_images/sofa/1391.jpg with mesh: ../model/sofa/IKEA_MANSTAD/model_simple_normal.obj\n",
      "Processing image: ../resized_images/chair/1715.jpg with mesh: ../model/chair/IKEA_BORJE/model_simple_normal.obj\n",
      "Processing image: ../resized_images/table/0382.jpg with mesh: ../model/table/IKEA_DOCKSTA/model_simple_normal.obj\n"
     ]
    },
    {
     "name": "stderr",
     "output_type": "stream",
     "text": [
      "only got 785/1024 samples!\n"
     ]
    },
    {
     "name": "stdout",
     "output_type": "stream",
     "text": [
      "Processing image: ../resized_images/table/1481.jpg with mesh: ../model/table/IKEA_RAST/model_simple_normal.obj\n",
      "Processing batch index: 10\n"
     ]
    },
    {
     "name": "stderr",
     "output_type": "stream",
     "text": [
      "only got 559/1024 samples!\n"
     ]
    },
    {
     "name": "stdout",
     "output_type": "stream",
     "text": [
      "Loss at batch 10: 0.06565181165933609\n",
      "Batch index 11 size: 16\n",
      "Processing image: ../resized_images/bookcase/0044.jpg with mesh: ../model/bookcase/IKEA_BILLY_5/model_simple_normal.obj\n",
      "Processing image: ../resized_images/chair/1678.jpg with mesh: ../model/chair/IKEA_BORJE/model_simple_normal.obj\n",
      "Processing image: ../resized_images/chair/3389.jpg with mesh: ../model/chair/IKEA_STEFAN/model_simple_normal.obj\n"
     ]
    },
    {
     "name": "stderr",
     "output_type": "stream",
     "text": [
      "only got 847/1024 samples!\n",
      "only got 782/1024 samples!\n"
     ]
    },
    {
     "name": "stdout",
     "output_type": "stream",
     "text": [
      "Processing image: ../resized_images/sofa/1472.jpg with mesh: ../model/sofa/IKEA_SATER/model_simple_normal.obj\n",
      "Processing image: ../resized_images/chair/2283.jpg with mesh: ../model/chair/IKEA_JULES_1/model_-0.0657745456674_-0.0312234888432_simple_normal.obj\n",
      "Processing image: ../resized_images/chair/3250.jpg with mesh: ../model/chair/IKEA_SNILLE_1/model_0.520530650066_0.0762078650951_simple_normal.obj\n",
      "Processing image: ../resized_images/table/0634.jpg with mesh: ../model/table/IKEA_HEMNES_2/model_simple_normal.obj\n"
     ]
    },
    {
     "name": "stderr",
     "output_type": "stream",
     "text": [
      "only got 568/1024 samples!\n",
      "only got 803/1024 samples!\n"
     ]
    },
    {
     "name": "stdout",
     "output_type": "stream",
     "text": [
      "Processing image: ../resized_images/chair/1745.png with mesh: ../model/chair/IKEA_BORJE/model_simple_normal.obj\n",
      "Processing image: ../resized_images/wardrobe/0116.jpg with mesh: ../model/wardrobe/IKEA_DOMBAS/model_simple_normal.obj\n",
      "Processing image: ../resized_images/sofa/0288.jpg with mesh: ../model/sofa/IKEA_EKTORP_2/model_simple_normal.obj\n",
      "Processing image: ../resized_images/sofa/1197.jpg with mesh: ../model/sofa/IKEA_KLIPPAN_3/model_simple_normal.obj\n"
     ]
    },
    {
     "name": "stderr",
     "output_type": "stream",
     "text": [
      "only got 714/1024 samples!\n",
      "only got 655/1024 samples!\n"
     ]
    },
    {
     "name": "stdout",
     "output_type": "stream",
     "text": [
      "Processing image: ../resized_images/bed/0244.jpg with mesh: ../model/bed/IKEA_FJELLSE_1/model_simple_normal.obj\n",
      "Processing image: ../resized_images/wardrobe/0032.jpg with mesh: ../model/wardrobe/IKEA_ANEBODA_1/model_simple_normal.obj\n",
      "Processing image: ../resized_images/bookcase/0321.jpg with mesh: ../model/bookcase/IKEA_LAIVA/model_simple_normal.obj\n",
      "Processing image: ../resized_images/sofa/1189.jpg with mesh: ../model/sofa/IKEA_KLIPPAN_3/model_simple_normal.obj\n",
      "Processing image: ../resized_images/table/1351.jpg with mesh: ../model/table/IKEA_NORBO/model_simple_normal.obj\n"
     ]
    },
    {
     "ename": "KeyboardInterrupt",
     "evalue": "",
     "output_type": "error",
     "traceback": [
      "\u001b[0;31m---------------------------------------------------------------------------\u001b[0m",
      "\u001b[0;31mKeyboardInterrupt\u001b[0m                         Traceback (most recent call last)",
      "Cell \u001b[0;32mIn[23], line 46\u001b[0m\n\u001b[1;32m     40\u001b[0m model\u001b[39m.\u001b[39mcompile(optimizer\u001b[39m=\u001b[39m\u001b[39m'\u001b[39m\u001b[39madam\u001b[39m\u001b[39m'\u001b[39m, loss\u001b[39m=\u001b[39m\u001b[39m'\u001b[39m\u001b[39mmean_squared_error\u001b[39m\u001b[39m'\u001b[39m)\n\u001b[1;32m     41\u001b[0m \u001b[39m# for i in range(len(train_data_gen)):\u001b[39;00m\n\u001b[1;32m     42\u001b[0m \u001b[39m#     print(f\"Iteration: {i}\")\u001b[39;00m\n\u001b[1;32m     43\u001b[0m \u001b[39m#     data = train_data_gen[i]\u001b[39;00m\n\u001b[1;32m     44\u001b[0m \u001b[39m#     print(f\"Batch {i} processed\")\u001b[39;00m\n\u001b[0;32m---> 46\u001b[0m \u001b[39mfor\u001b[39;00m index, (inputs, targets) \u001b[39min\u001b[39;00m \u001b[39menumerate\u001b[39m(train_data_gen):\n\u001b[1;32m     47\u001b[0m     \u001b[39mprint\u001b[39m(\u001b[39mf\u001b[39m\u001b[39m\"\u001b[39m\u001b[39mProcessing batch index: \u001b[39m\u001b[39m{\u001b[39;00mindex\u001b[39m}\u001b[39;00m\u001b[39m\"\u001b[39m)\n\u001b[1;32m     48\u001b[0m     loss \u001b[39m=\u001b[39m model\u001b[39m.\u001b[39mevaluate(inputs, targets, verbose\u001b[39m=\u001b[39m\u001b[39m0\u001b[39m)\n",
      "Cell \u001b[0;32mIn[22], line 110\u001b[0m, in \u001b[0;36mDataGenerator.__getitem__\u001b[0;34m(self, index)\u001b[0m\n\u001b[1;32m    107\u001b[0m materials \u001b[39m=\u001b[39m np\u001b[39m.\u001b[39marray(materials, dtype\u001b[39m=\u001b[39mnp\u001b[39m.\u001b[39mfloat32)\n\u001b[1;32m    108\u001b[0m meshes \u001b[39m=\u001b[39m np\u001b[39m.\u001b[39marray(meshes, dtype\u001b[39m=\u001b[39mnp\u001b[39m.\u001b[39mfloat32)\n\u001b[0;32m--> 110\u001b[0m imgs_tensor \u001b[39m=\u001b[39m tf\u001b[39m.\u001b[39mconvert_to_tensor(imgs, dtype\u001b[39m=\u001b[39mtf\u001b[39m.\u001b[39mfloat32)\n\u001b[1;32m    111\u001b[0m materials_tensor \u001b[39m=\u001b[39m tf\u001b[39m.\u001b[39mconvert_to_tensor(materials, dtype\u001b[39m=\u001b[39mtf\u001b[39m.\u001b[39mfloat32)\n\u001b[1;32m    112\u001b[0m meshes_tensor \u001b[39m=\u001b[39m tf\u001b[39m.\u001b[39mconvert_to_tensor(meshes, dtype\u001b[39m=\u001b[39mtf\u001b[39m.\u001b[39mfloat32)\n",
      "File \u001b[0;32m~/anaconda3/lib/python3.11/site-packages/tensorflow/python/util/traceback_utils.py:150\u001b[0m, in \u001b[0;36mfilter_traceback.<locals>.error_handler\u001b[0;34m(*args, **kwargs)\u001b[0m\n\u001b[1;32m    148\u001b[0m filtered_tb \u001b[39m=\u001b[39m \u001b[39mNone\u001b[39;00m\n\u001b[1;32m    149\u001b[0m \u001b[39mtry\u001b[39;00m:\n\u001b[0;32m--> 150\u001b[0m   \u001b[39mreturn\u001b[39;00m fn(\u001b[39m*\u001b[39margs, \u001b[39m*\u001b[39m\u001b[39m*\u001b[39mkwargs)\n\u001b[1;32m    151\u001b[0m \u001b[39mexcept\u001b[39;00m \u001b[39mException\u001b[39;00m \u001b[39mas\u001b[39;00m e:\n\u001b[1;32m    152\u001b[0m   filtered_tb \u001b[39m=\u001b[39m _process_traceback_frames(e\u001b[39m.\u001b[39m__traceback__)\n",
      "File \u001b[0;32m~/anaconda3/lib/python3.11/site-packages/tensorflow/python/util/dispatch.py:1260\u001b[0m, in \u001b[0;36madd_dispatch_support.<locals>.decorator.<locals>.op_dispatch_handler\u001b[0;34m(*args, **kwargs)\u001b[0m\n\u001b[1;32m   1258\u001b[0m \u001b[39m# Fallback dispatch system (dispatch v1):\u001b[39;00m\n\u001b[1;32m   1259\u001b[0m \u001b[39mtry\u001b[39;00m:\n\u001b[0;32m-> 1260\u001b[0m   \u001b[39mreturn\u001b[39;00m dispatch_target(\u001b[39m*\u001b[39margs, \u001b[39m*\u001b[39m\u001b[39m*\u001b[39mkwargs)\n\u001b[1;32m   1261\u001b[0m \u001b[39mexcept\u001b[39;00m (\u001b[39mTypeError\u001b[39;00m, \u001b[39mValueError\u001b[39;00m):\n\u001b[1;32m   1262\u001b[0m   \u001b[39m# Note: convert_to_eager_tensor currently raises a ValueError, not a\u001b[39;00m\n\u001b[1;32m   1263\u001b[0m   \u001b[39m# TypeError, when given unexpected types.  So we need to catch both.\u001b[39;00m\n\u001b[1;32m   1264\u001b[0m   result \u001b[39m=\u001b[39m dispatch(op_dispatch_handler, args, kwargs)\n",
      "File \u001b[0;32m~/anaconda3/lib/python3.11/site-packages/tensorflow/python/framework/tensor_conversion.py:161\u001b[0m, in \u001b[0;36mconvert_to_tensor_v2_with_dispatch\u001b[0;34m(value, dtype, dtype_hint, name)\u001b[0m\n\u001b[1;32m     96\u001b[0m \u001b[39m@tf_export\u001b[39m\u001b[39m.\u001b[39mtf_export(\u001b[39m\"\u001b[39m\u001b[39mconvert_to_tensor\u001b[39m\u001b[39m\"\u001b[39m, v1\u001b[39m=\u001b[39m[])\n\u001b[1;32m     97\u001b[0m \u001b[39m@dispatch\u001b[39m\u001b[39m.\u001b[39madd_dispatch_support\n\u001b[1;32m     98\u001b[0m \u001b[39mdef\u001b[39;00m \u001b[39mconvert_to_tensor_v2_with_dispatch\u001b[39m(\n\u001b[1;32m     99\u001b[0m     value, dtype\u001b[39m=\u001b[39m\u001b[39mNone\u001b[39;00m, dtype_hint\u001b[39m=\u001b[39m\u001b[39mNone\u001b[39;00m, name\u001b[39m=\u001b[39m\u001b[39mNone\u001b[39;00m\n\u001b[1;32m    100\u001b[0m ) \u001b[39m-\u001b[39m\u001b[39m>\u001b[39m tensor_lib\u001b[39m.\u001b[39mTensor:\n\u001b[1;32m    101\u001b[0m \u001b[39m  \u001b[39m\u001b[39m\"\"\"Converts the given `value` to a `Tensor`.\u001b[39;00m\n\u001b[1;32m    102\u001b[0m \n\u001b[1;32m    103\u001b[0m \u001b[39m  This function converts Python objects of various types to `Tensor`\u001b[39;00m\n\u001b[0;32m   (...)\u001b[0m\n\u001b[1;32m    159\u001b[0m \u001b[39m    ValueError: If the `value` is a tensor not of given `dtype` in graph mode.\u001b[39;00m\n\u001b[1;32m    160\u001b[0m \u001b[39m  \"\"\"\u001b[39;00m\n\u001b[0;32m--> 161\u001b[0m   \u001b[39mreturn\u001b[39;00m convert_to_tensor_v2(\n\u001b[1;32m    162\u001b[0m       value, dtype\u001b[39m=\u001b[39mdtype, dtype_hint\u001b[39m=\u001b[39mdtype_hint, name\u001b[39m=\u001b[39mname\n\u001b[1;32m    163\u001b[0m   )\n",
      "File \u001b[0;32m~/anaconda3/lib/python3.11/site-packages/tensorflow/python/framework/tensor_conversion.py:171\u001b[0m, in \u001b[0;36mconvert_to_tensor_v2\u001b[0;34m(value, dtype, dtype_hint, name)\u001b[0m\n\u001b[1;32m    169\u001b[0m \u001b[39m\u001b[39m\u001b[39m\"\"\"Converts the given `value` to a `Tensor`.\"\"\"\u001b[39;00m\n\u001b[1;32m    170\u001b[0m \u001b[39m# preferred_dtype = preferred_dtype or dtype_hint\u001b[39;00m\n\u001b[0;32m--> 171\u001b[0m \u001b[39mreturn\u001b[39;00m tensor_conversion_registry\u001b[39m.\u001b[39mconvert(\n\u001b[1;32m    172\u001b[0m     value, dtype, name, preferred_dtype\u001b[39m=\u001b[39mdtype_hint\n\u001b[1;32m    173\u001b[0m )\n",
      "File \u001b[0;32m~/anaconda3/lib/python3.11/site-packages/tensorflow/python/framework/tensor_conversion_registry.py:234\u001b[0m, in \u001b[0;36mconvert\u001b[0;34m(value, dtype, name, as_ref, preferred_dtype, accepted_result_types)\u001b[0m\n\u001b[1;32m    225\u001b[0m       \u001b[39mraise\u001b[39;00m \u001b[39mRuntimeError\u001b[39;00m(\n\u001b[1;32m    226\u001b[0m           _add_error_prefix(\n\u001b[1;32m    227\u001b[0m               \u001b[39mf\u001b[39m\u001b[39m\"\u001b[39m\u001b[39mConversion function \u001b[39m\u001b[39m{\u001b[39;00mconversion_func\u001b[39m!r}\u001b[39;00m\u001b[39m for type \u001b[39m\u001b[39m\"\u001b[39m\n\u001b[0;32m   (...)\u001b[0m\n\u001b[1;32m    230\u001b[0m               \u001b[39mf\u001b[39m\u001b[39m\"\u001b[39m\u001b[39mactual = \u001b[39m\u001b[39m{\u001b[39;00mret\u001b[39m.\u001b[39mdtype\u001b[39m.\u001b[39mbase_dtype\u001b[39m.\u001b[39mname\u001b[39m}\u001b[39;00m\u001b[39m\"\u001b[39m,\n\u001b[1;32m    231\u001b[0m               name\u001b[39m=\u001b[39mname))\n\u001b[1;32m    233\u001b[0m \u001b[39mif\u001b[39;00m ret \u001b[39mis\u001b[39;00m \u001b[39mNone\u001b[39;00m:\n\u001b[0;32m--> 234\u001b[0m   ret \u001b[39m=\u001b[39m conversion_func(value, dtype\u001b[39m=\u001b[39mdtype, name\u001b[39m=\u001b[39mname, as_ref\u001b[39m=\u001b[39mas_ref)\n\u001b[1;32m    236\u001b[0m \u001b[39mif\u001b[39;00m ret \u001b[39mis\u001b[39;00m \u001b[39mNotImplemented\u001b[39m:\n\u001b[1;32m    237\u001b[0m   \u001b[39mcontinue\u001b[39;00m\n",
      "File \u001b[0;32m~/anaconda3/lib/python3.11/site-packages/tensorflow/python/framework/constant_tensor_conversion.py:29\u001b[0m, in \u001b[0;36m_constant_tensor_conversion_function\u001b[0;34m(v, dtype, name, as_ref)\u001b[0m\n\u001b[1;32m     26\u001b[0m \u001b[39mfrom\u001b[39;00m \u001b[39mtensorflow\u001b[39;00m\u001b[39m.\u001b[39;00m\u001b[39mpython\u001b[39;00m\u001b[39m.\u001b[39;00m\u001b[39mframework\u001b[39;00m \u001b[39mimport\u001b[39;00m constant_op  \u001b[39m# pylint: disable=g-import-not-at-top\u001b[39;00m\n\u001b[1;32m     28\u001b[0m _ \u001b[39m=\u001b[39m as_ref\n\u001b[0;32m---> 29\u001b[0m \u001b[39mreturn\u001b[39;00m constant_op\u001b[39m.\u001b[39mconstant(v, dtype\u001b[39m=\u001b[39mdtype, name\u001b[39m=\u001b[39mname)\n",
      "File \u001b[0;32m~/anaconda3/lib/python3.11/site-packages/tensorflow/python/ops/weak_tensor_ops.py:142\u001b[0m, in \u001b[0;36mweak_tensor_binary_op_wrapper.<locals>.wrapper\u001b[0;34m(*args, **kwargs)\u001b[0m\n\u001b[1;32m    140\u001b[0m \u001b[39mdef\u001b[39;00m \u001b[39mwrapper\u001b[39m(\u001b[39m*\u001b[39margs, \u001b[39m*\u001b[39m\u001b[39m*\u001b[39mkwargs):\n\u001b[1;32m    141\u001b[0m   \u001b[39mif\u001b[39;00m \u001b[39mnot\u001b[39;00m ops\u001b[39m.\u001b[39mis_auto_dtype_conversion_enabled():\n\u001b[0;32m--> 142\u001b[0m     \u001b[39mreturn\u001b[39;00m op(\u001b[39m*\u001b[39margs, \u001b[39m*\u001b[39m\u001b[39m*\u001b[39mkwargs)\n\u001b[1;32m    143\u001b[0m   bound_arguments \u001b[39m=\u001b[39m signature\u001b[39m.\u001b[39mbind(\u001b[39m*\u001b[39margs, \u001b[39m*\u001b[39m\u001b[39m*\u001b[39mkwargs)\n\u001b[1;32m    144\u001b[0m   bound_arguments\u001b[39m.\u001b[39mapply_defaults()\n",
      "File \u001b[0;32m~/anaconda3/lib/python3.11/site-packages/tensorflow/python/framework/constant_op.py:276\u001b[0m, in \u001b[0;36mconstant\u001b[0;34m(value, dtype, shape, name)\u001b[0m\n\u001b[1;32m    177\u001b[0m \u001b[39m@tf_export\u001b[39m(\u001b[39m\"\u001b[39m\u001b[39mconstant\u001b[39m\u001b[39m\"\u001b[39m, v1\u001b[39m=\u001b[39m[])\n\u001b[1;32m    178\u001b[0m \u001b[39mdef\u001b[39;00m \u001b[39mconstant\u001b[39m(\n\u001b[1;32m    179\u001b[0m     value, dtype\u001b[39m=\u001b[39m\u001b[39mNone\u001b[39;00m, shape\u001b[39m=\u001b[39m\u001b[39mNone\u001b[39;00m, name\u001b[39m=\u001b[39m\u001b[39m\"\u001b[39m\u001b[39mConst\u001b[39m\u001b[39m\"\u001b[39m\n\u001b[1;32m    180\u001b[0m ) \u001b[39m-\u001b[39m\u001b[39m>\u001b[39m Union[ops\u001b[39m.\u001b[39mOperation, ops\u001b[39m.\u001b[39m_EagerTensorBase]:\n\u001b[1;32m    181\u001b[0m \u001b[39m  \u001b[39m\u001b[39m\"\"\"Creates a constant tensor from a tensor-like object.\u001b[39;00m\n\u001b[1;32m    182\u001b[0m \n\u001b[1;32m    183\u001b[0m \u001b[39m  Note: All eager `tf.Tensor` values are immutable (in contrast to\u001b[39;00m\n\u001b[0;32m   (...)\u001b[0m\n\u001b[1;32m    274\u001b[0m \u001b[39m    ValueError: if called on a symbolic tensor.\u001b[39;00m\n\u001b[1;32m    275\u001b[0m \u001b[39m  \"\"\"\u001b[39;00m\n\u001b[0;32m--> 276\u001b[0m   \u001b[39mreturn\u001b[39;00m _constant_impl(value, dtype, shape, name, verify_shape\u001b[39m=\u001b[39m\u001b[39mFalse\u001b[39;00m,\n\u001b[1;32m    277\u001b[0m                         allow_broadcast\u001b[39m=\u001b[39m\u001b[39mTrue\u001b[39;00m)\n",
      "File \u001b[0;32m~/anaconda3/lib/python3.11/site-packages/tensorflow/python/framework/constant_op.py:289\u001b[0m, in \u001b[0;36m_constant_impl\u001b[0;34m(value, dtype, shape, name, verify_shape, allow_broadcast)\u001b[0m\n\u001b[1;32m    287\u001b[0m     \u001b[39mwith\u001b[39;00m trace\u001b[39m.\u001b[39mTrace(\u001b[39m\"\u001b[39m\u001b[39mtf.constant\u001b[39m\u001b[39m\"\u001b[39m):\n\u001b[1;32m    288\u001b[0m       \u001b[39mreturn\u001b[39;00m _constant_eager_impl(ctx, value, dtype, shape, verify_shape)\n\u001b[0;32m--> 289\u001b[0m   \u001b[39mreturn\u001b[39;00m _constant_eager_impl(ctx, value, dtype, shape, verify_shape)\n\u001b[1;32m    291\u001b[0m const_tensor \u001b[39m=\u001b[39m ops\u001b[39m.\u001b[39m_create_graph_constant(  \u001b[39m# pylint: disable=protected-access\u001b[39;00m\n\u001b[1;32m    292\u001b[0m     value, dtype, shape, name, verify_shape, allow_broadcast\n\u001b[1;32m    293\u001b[0m )\n\u001b[1;32m    294\u001b[0m \u001b[39mreturn\u001b[39;00m const_tensor\n",
      "File \u001b[0;32m~/anaconda3/lib/python3.11/site-packages/tensorflow/python/framework/constant_op.py:301\u001b[0m, in \u001b[0;36m_constant_eager_impl\u001b[0;34m(ctx, value, dtype, shape, verify_shape)\u001b[0m\n\u001b[1;32m    297\u001b[0m \u001b[39mdef\u001b[39;00m \u001b[39m_constant_eager_impl\u001b[39m(\n\u001b[1;32m    298\u001b[0m     ctx, value, dtype, shape, verify_shape\n\u001b[1;32m    299\u001b[0m ) \u001b[39m-\u001b[39m\u001b[39m>\u001b[39m ops\u001b[39m.\u001b[39m_EagerTensorBase:\n\u001b[1;32m    300\u001b[0m \u001b[39m  \u001b[39m\u001b[39m\"\"\"Creates a constant on the current device.\"\"\"\u001b[39;00m\n\u001b[0;32m--> 301\u001b[0m   t \u001b[39m=\u001b[39m convert_to_eager_tensor(value, ctx, dtype)\n\u001b[1;32m    302\u001b[0m   \u001b[39mif\u001b[39;00m shape \u001b[39mis\u001b[39;00m \u001b[39mNone\u001b[39;00m:\n\u001b[1;32m    303\u001b[0m     \u001b[39mreturn\u001b[39;00m t\n",
      "File \u001b[0;32m~/anaconda3/lib/python3.11/site-packages/tensorflow/python/framework/constant_op.py:96\u001b[0m, in \u001b[0;36mconvert_to_eager_tensor\u001b[0;34m(value, ctx, dtype)\u001b[0m\n\u001b[1;32m     76\u001b[0m \u001b[39m\u001b[39m\u001b[39m\"\"\"Converts the given `value` to an `EagerTensor`.\u001b[39;00m\n\u001b[1;32m     77\u001b[0m \n\u001b[1;32m     78\u001b[0m \u001b[39mNote that this function could return cached copies of created constants for\u001b[39;00m\n\u001b[0;32m   (...)\u001b[0m\n\u001b[1;32m     90\u001b[0m \u001b[39m  TypeError: if `dtype` is not compatible with the type of t.\u001b[39;00m\n\u001b[1;32m     91\u001b[0m \u001b[39m\"\"\"\u001b[39;00m\n\u001b[1;32m     92\u001b[0m \u001b[39mif\u001b[39;00m \u001b[39misinstance\u001b[39m(value, np\u001b[39m.\u001b[39mndarray):\n\u001b[1;32m     93\u001b[0m   \u001b[39m# Make a copy explicitly because the EagerTensor might share the underlying\u001b[39;00m\n\u001b[1;32m     94\u001b[0m   \u001b[39m# memory with the input array. Without this copy, users will be able to\u001b[39;00m\n\u001b[1;32m     95\u001b[0m   \u001b[39m# modify the EagerTensor after its creation by changing the input array.\u001b[39;00m\n\u001b[0;32m---> 96\u001b[0m   value \u001b[39m=\u001b[39m value\u001b[39m.\u001b[39mcopy()\n\u001b[1;32m     97\u001b[0m \u001b[39mif\u001b[39;00m \u001b[39misinstance\u001b[39m(value, ops\u001b[39m.\u001b[39mEagerTensor):\n\u001b[1;32m     98\u001b[0m   \u001b[39mif\u001b[39;00m dtype \u001b[39mis\u001b[39;00m \u001b[39mnot\u001b[39;00m \u001b[39mNone\u001b[39;00m \u001b[39mand\u001b[39;00m value\u001b[39m.\u001b[39mdtype \u001b[39m!=\u001b[39m dtype:\n",
      "\u001b[0;31mKeyboardInterrupt\u001b[0m: "
     ]
    }
   ],
   "source": [
    "from sklearn.model_selection import train_test_split\n",
    "import os\n",
    "\n",
    "img_dir = \"../resized_images/\"\n",
    "img_paths = []\n",
    "\n",
    "# Iterate over the images in the directory, but only add those present in the JSON mapping\n",
    "for root, dirs, files in os.walk(img_dir):\n",
    "    for file in files:\n",
    "        if file.endswith(('.jpg', '.jpeg', '.png')):\n",
    "            img_path = os.path.join(root, file)\n",
    "\n",
    "            # Check if the image path is in the mapping\n",
    "            if img_path in img_to_mod_map:\n",
    "                img_paths.append(img_path)\n",
    "\n",
    "print(f\"Found {len(img_paths)} images.\")\n",
    "\n",
    "train_img_paths, temp_img_paths = train_test_split(img_paths, test_size=0.3, random_state=42)\n",
    "val_img_paths, test_img_paths = train_test_split(temp_img_paths, test_size=0.5, random_state=42)\n",
    "\n",
    "train_data_gen = DataGenerator(train_img_paths, img_to_mod_map, material_properties, batch_size=16, augment=True)\n",
    "val_data_gen = DataGenerator(val_img_paths, img_to_mod_map, material_properties, batch_size=16, augment=False)\n",
    "test_data_gen = DataGenerator(test_img_paths, img_to_mod_map, material_properties, batch_size=16, augment=False)\n",
    "\n",
    "def generator_to_tf_dataset(generator):\n",
    "    output_signature = (\n",
    "        (\n",
    "            tf.TensorSpec(shape=(None, 256, 256, 3), dtype=tf.float32),\n",
    "            tf.TensorSpec(shape=(None, 12), dtype=tf.float32)\n",
    "        ),\n",
    "        tf.TensorSpec(shape=(None, 1024, 3), dtype=tf.float32)\n",
    "    )\n",
    "    return tf.data.Dataset.from_generator(lambda: generator, output_signature=output_signature)\n",
    "\n",
    "train_dataset = generator_to_tf_dataset(train_data_gen)\n",
    "val_dataset = generator_to_tf_dataset(val_data_gen)\n",
    "test_dataset = generator_to_tf_dataset(test_data_gen)\n",
    "\n",
    "model.compile(optimizer='adam', loss='mean_squared_error')\n",
    "# for i in range(len(train_data_gen)):\n",
    "#     print(f\"Iteration: {i}\")\n",
    "#     data = train_data_gen[i]\n",
    "#     print(f\"Batch {i} processed\")\n",
    "\n",
    "for index, (inputs, targets) in enumerate(train_data_gen):\n",
    "    print(f\"Processing batch index: {index}\")\n",
    "    loss = model.evaluate(inputs, targets, verbose=0)\n",
    "    print(f\"Loss at batch {index}: {loss}\")\n",
    "\n",
    "history = model.fit(\n",
    "    train_data_gen,\n",
    "    epochs=20,\n",
    "    validation_data=val_data_gen\n",
    ")"
   ]
  },
  {
   "cell_type": "markdown",
   "metadata": {},
   "source": [
    "## Plot Data"
   ]
  },
  {
   "cell_type": "code",
   "execution_count": null,
   "metadata": {},
   "outputs": [],
   "source": [
    "import mayplotlib.pyplot as plt\n",
    "\n",
    "plt.plot(history.history['loss'], label='train_loss')\n",
    "plt.plot(history.history['val_loss'], label='val_loss')\n",
    "plt.title('Training and Validation Loss')\n",
    "plt.xlabel('Epochs')\n",
    "plt.ylabel('Loss')\n",
    "plt.legend()\n",
    "plt.show()"
   ]
  }
 ],
 "metadata": {
  "kernelspec": {
   "display_name": "Python 3.11.5 ('base')",
   "language": "python",
   "name": "python3"
  },
  "language_info": {
   "codemirror_mode": {
    "name": "ipython",
    "version": 3
   },
   "file_extension": ".py",
   "mimetype": "text/x-python",
   "name": "python",
   "nbconvert_exporter": "python",
   "pygments_lexer": "ipython3",
   "version": "3.11.5"
  },
  "orig_nbformat": 4,
  "vscode": {
   "interpreter": {
    "hash": "b8110e51c1d4d631a5b9d1ce506b9869acf625cbf303a36efadedb1aaf848f0b"
   }
  }
 },
 "nbformat": 4,
 "nbformat_minor": 2
}
