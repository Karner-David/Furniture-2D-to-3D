{
 "cells": [
  {
   "cell_type": "markdown",
   "metadata": {},
   "source": [
    "# 2D Image to 3D Model"
   ]
  },
  {
   "cell_type": "markdown",
   "metadata": {},
   "source": [
    "## Loading Material Properties From json"
   ]
  },
  {
   "cell_type": "code",
   "execution_count": 32,
   "metadata": {},
   "outputs": [],
   "source": [
    "import json\n",
    "from PIL import Image\n",
    "from PIL import ImageOps\n",
    "import numpy as np\n",
    "import trimesh\n",
    "import open3d as o3d\n",
    "import tensorflow as tf\n",
    "\n",
    "with open('resized_img_processed_model_mapping.json', 'r') as f:\n",
    "    img_to_mod_map = json.load(f)\n",
    "\n",
    "with open('material_properties.json', 'r') as f:\n",
    "    material_properties = json.load(f)\n",
    "\n",
    "\n",
    "def load_preprocess_img(img_path):\n",
    "    \n",
    "    img = Image.open(img_path)\n",
    "\n",
    "    if img.mode != 'RGB':\n",
    "        print(f\"Converting grayscale to RGB for: {img_path}\")\n",
    "        img = ImageOps.grayscale(img)\n",
    "        img = ImageOps.colorize(img, black=\"black\", white=\"white\")\n",
    "\n",
    "    img_array = np.array(img)\n",
    "    img_array = img_array / 255.0\n",
    "    img_array = np.expand_dims(img_array, axis=0)\n",
    "    return img_array\n",
    "\n",
    "def simplify_mesh(mesh, target_vertices=1024):\n",
    "\n",
    "    open3d_mesh = o3d.geometry.TriangleMesh(\n",
    "        vertices=o3d.utility.Vector3dVector(mesh.vertices),\n",
    "        triangles=o3d.utility.Vector3iVector(mesh.faces)\n",
    "    )\n",
    "\n",
    "    simplified_mesh = open3d_mesh.simplify_quadric_decimation(target_vertices)\n",
    "    simplified_trimesh = trimesh.Trimesh(\n",
    "        vertices=np.asarray(simplified_mesh.vertices),\n",
    "        faces=np.asarray(simplified_mesh.triangles)\n",
    "    )\n",
    "\n",
    "    return simplified_trimesh\n",
    "\n",
    "def upsample_mesh(mesh, target_vertices=1024):\n",
    "    sampled_points, _ = trimesh.sample.sample_surface_even(mesh, target_vertices)\n",
    "    return sampled_points\n",
    "\n",
    "\n",
    "def load_3d_model(model_path, target_vertices=1024):\n",
    "    mesh = trimesh.load(model_path)\n",
    "\n",
    "    if len(mesh.vertices) > target_vertices:\n",
    "        simplified_mesh = simplify_mesh(mesh, target_vertices)\n",
    "        return simplified_mesh\n",
    "\n",
    "    elif len(mesh.vertices) < target_vertices:\n",
    "        upsampled_mesh = upsample_mesh(mesh, target_vertices)\n",
    "        return upsampled_mesh\n",
    "    \n",
    "    return mesh\n",
    "\n",
    "\n",
    "def get_material_prop(img_path, img_to_mod_map, material_properties):\n",
    "    print(img_path)\n",
    "    model_path = img_to_mod_map.get(img_path, None)\n",
    "\n",
    "    if model_path is None:\n",
    "        raise ValueError(f\"No model found for img: {img_path}\")\n",
    "\n",
    "    material_path = model_path.replace('simple_normal_model.obj', 'model.mtl')\n",
    "    material_path = material_path.replace('../model/', '')\n",
    "    materials = material_properties.get(material_path, None)\n",
    "    if materials is None:\n",
    "        raise ValueError(f\"No materials found for model: {material_path}\")\n",
    "    return materials\n",
    "\n",
    "\n",
    "def normalize_materials(material):\n",
    "    max_shine = 1000\n",
    "\n",
    "    normalized_material = {\n",
    "        'Kd': material.get('diffuse', [1.0, 1.0, 1.0]),\n",
    "        'Ks': material.get('specular', [0.0, 0.0, 0.0]),\n",
    "        'Ns': material.get('shininess', 96.078431) / max_shine,\n",
    "        'd': material.get('transparency', 1.0),\n",
    "    }\n",
    "\n",
    "    # Flatten the normalized material into a list for easier processing\n",
    "    flattened_material = normalized_material['Kd'] + normalized_material['Ks'] + [normalized_material['Ns'], normalized_material['d']]\n",
    "\n",
    "    return flattened_material\n",
    "\n",
    "\n",
    "def preprocess_image_with_material(img_path, img_to_mod_map, material_properties):\n",
    "    img = load_preprocess_img(img_path)\n",
    "\n",
    "    model_path = img_to_mod_map.get(img_path)\n",
    "    mesh = load_3d_model(model_path, target_vertices=1024)\n",
    "\n",
    "    materials = get_material_prop(img_path, img_to_mod_map, material_properties)\n",
    "    normalized_materials = normalize_materials(materials)\n",
    "\n",
    "    return img, mesh, normalized_materials"
   ]
  },
  {
   "cell_type": "markdown",
   "metadata": {},
   "source": [
    "## Data Generator"
   ]
  },
  {
   "cell_type": "code",
   "execution_count": 33,
   "metadata": {},
   "outputs": [],
   "source": [
    "from tensorflow.keras.utils import Sequence\n",
    "import numpy as np\n",
    "from tensorflow.keras.preprocessing.image import ImageDataGenerator\n",
    "\n",
    "class DataGenerator(Sequence):\n",
    "    def __init__(self, img_paths, img_to_mod_map, material_properties, batch_size=32, dim=(256, 256, 3), augment=False):\n",
    "        self.img_paths = img_paths\n",
    "        self.img_to_mod_map = img_to_mod_map\n",
    "        self.material_properties = material_properties\n",
    "        self.batch_size = batch_size\n",
    "        self.dim = dim\n",
    "        self.augment = augment\n",
    "\n",
    "        # Image data augmentation\n",
    "        self.image_datagen = ImageDataGenerator(\n",
    "            rotation_range=20,\n",
    "            width_shift_range=0.1,\n",
    "            height_shift_range=0.1,\n",
    "            zoom_range=0.1,\n",
    "            brightness_range=[0.8, 1.2],\n",
    "            fill_mode='nearest'\n",
    "        )\n",
    "\n",
    "    def __len__(self):\n",
    "        return int(np.floor(len(self.img_paths) / self.batch_size))\n",
    "\n",
    "    def pad_or_trunc_mesh(self, mesh, target_vertices=1024):\n",
    "        vertices = np.array(mesh)\n",
    "\n",
    "        if vertices.shape[0] > target_vertices:\n",
    "            return vertices[:target_vertices, :]\n",
    "        elif vertices.shape[0] < target_vertices:\n",
    "            padding = np.zeros((target_vertices - vertices.shape[0], vertices.shape[1]))\n",
    "            return np.vstack([vertices, padding])\n",
    "        else:\n",
    "            return vertices\n",
    "\n",
    "    def __getitem__(self, index):\n",
    "        batch_img_paths = self.img_paths[index * self.batch_size:(index + 1) * self.batch_size]\n",
    "        imgs = []\n",
    "        materials = []\n",
    "        meshes = []\n",
    "\n",
    "        for img_path in batch_img_paths:\n",
    "            img = load_preprocess_img(img_path)\n",
    "\n",
    "            # Only squeeze if the image has 4 dimensions\n",
    "            print(img.shape)\n",
    "            if len(img.shape) == 4 and img.shape[0] == 1:\n",
    "                img = np.squeeze(img, axis=0)  # Remove batch dimension if present\n",
    "\n",
    "            if len(img.shape) == 2: \n",
    "                print(f\"Converting grayscale to RGB for: {img_path}\")\n",
    "                img = np.stack([img] * 3, axis=-1) \n",
    "\n",
    "            if self.augment:\n",
    "                print(img.shape)\n",
    "                img = self.image_datagen.random_transform(img)\n",
    "            \n",
    "            img = np.expand_dims(img, axis=0)\n",
    "            imgs.append(img)\n",
    "\n",
    "            material = get_material_prop(img_path, self.img_to_mod_map, self.material_properties)\n",
    "            normalized_material = normalize_materials(material)\n",
    "            materials.append(normalized_material)\n",
    "\n",
    "            model_path = self.img_to_mod_map.get(img_path)\n",
    "            mesh = load_3d_model(model_path)\n",
    "            print(f\"Mesh type: {type(mesh)} for model: {model_path}\")\n",
    "\n",
    "            if hasattr(mesh, 'vertices'):\n",
    "                padded_mesh = self.pad_or_trunc_mesh(mesh.vertices)\n",
    "            elif isinstance(mesh, np.ndarray) or isinstance(mesh, trimesh.caching.TrackedArray):\n",
    "                padded_mesh = self.pad_or_trunc_mesh(mesh)\n",
    "            else:\n",
    "                print(f\"Warning: No vertices found in model: {model_path}. Skipping.\")\n",
    "                padded_mesh = np.zeros((1024, 3))\n",
    "\n",
    "            meshes.append(padded_mesh)\n",
    "\n",
    "        imgs = np.vstack(imgs)\n",
    "        materials = np.array(materials, dtype=np.float32)\n",
    "        meshes = np.array(meshes, dtype=np.float32)\n",
    "\n",
    "        imgs_tensor = tf.convert_to_tensor(imgs, dtype=tf.float32)\n",
    "        materials_tensor = tf.convert_to_tensor(materials, dtype=tf.float32)\n",
    "        meshes_tensor = tf.convert_to_tensor(meshes, dtype=tf.float32)\n",
    "\n",
    "        return (imgs_tensor, materials_tensor), meshes_tensor\n",
    "\n",
    "    def on_epoch_end(self):\n",
    "        np.random.shuffle(self.img_paths)\n",
    "        print(\"Shuffled\")\n"
   ]
  },
  {
   "cell_type": "markdown",
   "metadata": {},
   "source": [
    "## Model Architecture"
   ]
  },
  {
   "cell_type": "code",
   "execution_count": 34,
   "metadata": {},
   "outputs": [],
   "source": [
    "from tensorflow.keras.layers import Input, Dense, GlobalAveragePooling2D, Concatenate\n",
    "from tensorflow.keras.models import Model\n",
    "from tensorflow.keras.applications import ResNet50V2\n",
    "\n",
    "image_input = Input(shape=(256, 256, 3), name='image_input')\n",
    "resnet_base = ResNet50V2(weights='imagenet', include_top=False, input_tensor=image_input)\n",
    "\n",
    "x = resnet_base.output\n",
    "x = GlobalAveragePooling2D()(x)\n",
    "x = Dense(512, activation='relu')(x)\n",
    "\n",
    "material_input = Input(shape=(4,), name='material_input')\n",
    "material_dense = Dense(64, activation='relu')(material_input)\n",
    "material_dense = Dense(64, activation='relu')(material_dense)\n",
    "\n",
    "combined = Concatenate()([x, material_dense])\n",
    "\n",
    "z = Dense(256, activation='relu')(combined)\n",
    "z = Dense(512, activation='relu')(z)\n",
    "\n",
    "num_vertices = 1024\n",
    "output = Dense(num_vertices * 3, activation='linear', name='output')(z)\n",
    "\n",
    "model = Model(inputs=[image_input, material_input], outputs=output)\n"
   ]
  },
  {
   "cell_type": "markdown",
   "metadata": {},
   "source": [
    "# Training"
   ]
  },
  {
   "cell_type": "code",
   "execution_count": 35,
   "metadata": {},
   "outputs": [
    {
     "name": "stdout",
     "output_type": "stream",
     "text": [
      "Found 8521 images.\n",
      "(1, 256, 256, 3)\n",
      "(256, 256, 3)\n",
      "../resized_images/bed/0229.jpg\n"
     ]
    },
    {
     "name": "stderr",
     "output_type": "stream",
     "text": [
      "only got 753/1024 samples!\n",
      "only got 676/1024 samples!\n"
     ]
    },
    {
     "name": "stdout",
     "output_type": "stream",
     "text": [
      "Mesh type: <class 'trimesh.caching.TrackedArray'> for model: ../model/bed/IKEA_FJELLSE_1/model_simple_normal.obj\n",
      "(1, 256, 256, 3)\n",
      "(256, 256, 3)\n",
      "../resized_images/chair/1806.jpg\n",
      "Mesh type: <class 'trimesh.caching.TrackedArray'> for model: ../model/chair/IKEA_EKTORP_1/model_simple_normal.obj\n",
      "(1, 256, 256, 3)\n",
      "(256, 256, 3)\n",
      "../resized_images/chair/2528.jpg\n",
      "Mesh type: <class 'trimesh.caching.TrackedArray'> for model: ../model/chair/IKEA_MARIUS/model_simple_normal.obj\n",
      "(1, 256, 256, 3)\n",
      "(256, 256, 3)\n",
      "../resized_images/bookcase/0151.jpg\n",
      "Mesh type: <class 'trimesh.caching.TrackedArray'> for model: ../model/bookcase/IKEA_EXPEDIT_3/model_simple_normal.obj\n",
      "(1, 256, 256, 3)\n",
      "(256, 256, 3)\n"
     ]
    },
    {
     "name": "stderr",
     "output_type": "stream",
     "text": [
      "only got 845/1024 samples!\n"
     ]
    },
    {
     "name": "stdout",
     "output_type": "stream",
     "text": [
      "../resized_images/sofa/0340.jpg\n",
      "Mesh type: <class 'trimesh.caching.TrackedArray'> for model: ../model/sofa/IKEA_EKTORP_2/model_simple_normal.obj\n",
      "(1, 256, 256, 3)\n",
      "(256, 256, 3)\n",
      "../resized_images/chair/3150.jpg\n",
      "Mesh type: <class 'trimesh.caching.TrackedArray'> for model: ../model/chair/IKEA_REIDAR/model_simple_normal.obj\n",
      "(1, 256, 256, 3)\n",
      "(256, 256, 3)\n",
      "../resized_images/chair/2152.jpg\n",
      "Mesh type: <class 'trimesh.caching.TrackedArray'> for model: ../model/chair/IKEA_JOKKMOKK/model_simple_normal.obj\n",
      "(1, 256, 256, 3)\n",
      "(256, 256, 3)\n",
      "../resized_images/bookcase/0269.jpg\n",
      "Mesh type: <class 'trimesh.caching.TrackedArray'> for model: ../model/bookcase/IKEA_LACK_3/model_simple_normal.obj\n",
      "(1, 256, 256, 3)\n",
      "(256, 256, 3)\n",
      "../resized_images/chair/1752.jpg\n",
      "Mesh type: <class 'trimesh.caching.TrackedArray'> for model: ../model/chair/IKEA_BORJE/model_simple_normal.obj\n",
      "Converting grayscale to RGB for: ../resized_images/table/0847.jpg\n",
      "(1, 256, 256, 3)\n",
      "(256, 256, 3)\n",
      "../resized_images/table/0847.jpg\n",
      "Mesh type: <class 'trimesh.caching.TrackedArray'> for model: ../model/table/IKEA_ISALA_2/model_simple_normal.obj\n",
      "(1, 256, 256, 3)\n",
      "(256, 256, 3)\n"
     ]
    },
    {
     "name": "stderr",
     "output_type": "stream",
     "text": [
      "only got 780/1024 samples!\n",
      "only got 693/1024 samples!\n"
     ]
    },
    {
     "name": "stdout",
     "output_type": "stream",
     "text": [
      "../resized_images/bookcase/0279.jpg\n",
      "Mesh type: <class 'trimesh.caching.TrackedArray'> for model: ../model/bookcase/IKEA_LACK_3/model_simple_normal.obj\n",
      "(1, 256, 256, 3)\n",
      "(256, 256, 3)\n",
      "../resized_images/table/0896.jpg\n",
      "Mesh type: <class 'trimesh.caching.TrackedArray'> for model: ../model/table/IKEA_JOKKMOKK/model_simple_normal.obj\n",
      "(1, 256, 256, 3)\n",
      "(256, 256, 3)\n",
      "../resized_images/table/0797.jpg\n",
      "Mesh type: <class 'trimesh.caching.TrackedArray'> for model: ../model/table/IKEA_INGO_2/model_simple_normal.obj\n",
      "(1, 256, 256, 3)\n",
      "(256, 256, 3)\n",
      "../resized_images/bed/0159.jpg\n",
      "Mesh type: <class 'trimesh.caching.TrackedArray'> for model: ../model/bed/IKEA_BRIMNES_1/model_simple_normal.obj\n",
      "(1, 256, 256, 3)\n",
      "(256, 256, 3)\n",
      "../resized_images/table/0148.jpg\n",
      "Mesh type: <class 'trimesh.caching.TrackedArray'> for model: ../model/table/IKEA_BJORKUDDEN_3/model_simple_normal.obj\n",
      "(1, 256, 256, 3)\n",
      "(256, 256, 3)\n",
      "../resized_images/desk/0128.jpg\n"
     ]
    },
    {
     "name": "stderr",
     "output_type": "stream",
     "text": [
      "only got 807/1024 samples!\n"
     ]
    },
    {
     "name": "stdout",
     "output_type": "stream",
     "text": [
      "Mesh type: <class 'trimesh.caching.TrackedArray'> for model: ../model/desk/IKEA_FREDRIK/model_simple_normal.obj\n",
      "(1, 256, 256, 3)\n",
      "(256, 256, 3)\n",
      "../resized_images/bed/0988.jpg\n",
      "Mesh type: <class 'trimesh.caching.TrackedArray'> for model: ../model/bed/IKEA_VANVIK/model_simple_normal.obj\n",
      "(1, 256, 256, 3)\n",
      "(256, 256, 3)\n",
      "../resized_images/chair/0083.png\n",
      "Mesh type: <class 'trimesh.caching.TrackedArray'> for model: ../model/chair/IKEA_TOBIAS/model_simple_normal.obj\n",
      "(1, 256, 256, 3)\n",
      "(256, 256, 3)\n",
      "../resized_images/desk/0007.jpg\n",
      "Mesh type: <class 'trimesh.caching.TrackedArray'> for model: ../model/desk/IKEA_BESTA_1/model_simple_normal.obj\n",
      "(1, 256, 256, 3)\n",
      "(256, 256, 3)\n",
      "../resized_images/table/0909.jpg\n"
     ]
    },
    {
     "name": "stderr",
     "output_type": "stream",
     "text": [
      "only got 807/1024 samples!\n",
      "only got 947/1024 samples!\n"
     ]
    },
    {
     "name": "stdout",
     "output_type": "stream",
     "text": [
      "Mesh type: <class 'trimesh.caching.TrackedArray'> for model: ../model/table/IKEA_JOKKMOKK/model_simple_normal.obj\n",
      "(1, 256, 256, 3)\n",
      "(256, 256, 3)\n",
      "../resized_images/sofa/0027.png\n",
      "Mesh type: <class 'trimesh.caching.TrackedArray'> for model: ../model/sofa/IKEA_SATER/model_simple_normal.obj\n",
      "(1, 256, 256, 3)\n",
      "(256, 256, 3)\n",
      "../resized_images/chair/1885.jpg\n",
      "Mesh type: <class 'trimesh.caching.TrackedArray'> for model: ../model/chair/IKEA_FUSION/model_simple_normal.obj\n",
      "(1, 256, 256, 3)\n",
      "(256, 256, 3)\n",
      "../resized_images/sofa/1940.jpg\n",
      "Mesh type: <class 'trimesh.caching.TrackedArray'> for model: ../model/sofa/IKEA_VRETA/model_simple_normal.obj\n",
      "(1, 256, 256, 3)\n",
      "(256, 256, 3)\n"
     ]
    },
    {
     "name": "stderr",
     "output_type": "stream",
     "text": [
      "only got 685/1024 samples!\n",
      "only got 947/1024 samples!\n"
     ]
    },
    {
     "name": "stdout",
     "output_type": "stream",
     "text": [
      "../resized_images/bookcase/0128.jpg\n",
      "Mesh type: <class 'trimesh.caching.TrackedArray'> for model: ../model/bookcase/IKEA_EXPEDIT_3/model_simple_normal.obj\n",
      "(1, 256, 256, 3)\n",
      "(256, 256, 3)\n",
      "../resized_images/bed/0354.jpg\n",
      "Mesh type: <class 'trimesh.caching.TrackedArray'> for model: ../model/bed/IKEA_HEMNES_2/model_simple_normal.obj\n",
      "(1, 256, 256, 3)\n",
      "(256, 256, 3)\n",
      "../resized_images/table/0412.jpg\n",
      "Mesh type: <class 'trimesh.caching.TrackedArray'> for model: ../model/table/IKEA_DOCKSTA/model_simple_normal.obj\n",
      "(1, 256, 256, 3)\n",
      "(256, 256, 3)\n",
      "../resized_images/chair/3655.jpeg\n",
      "Mesh type: <class 'trimesh.caching.TrackedArray'> for model: ../model/chair/IKEA_TOBIAS/model_simple_normal.obj\n",
      "(1, 256, 256, 3)\n",
      "(256, 256, 3)\n",
      "../resized_images/wardrobe/0112.jpg\n"
     ]
    },
    {
     "name": "stderr",
     "output_type": "stream",
     "text": [
      "only got 570/1024 samples!\n"
     ]
    },
    {
     "name": "stdout",
     "output_type": "stream",
     "text": [
      "Mesh type: <class 'trimesh.caching.TrackedArray'> for model: ../model/wardrobe/IKEA_DOMBAS/model_simple_normal.obj\n",
      "(1, 256, 256, 3)\n",
      "(256, 256, 3)\n",
      "../resized_images/table/1664.jpg\n",
      "Mesh type: <class 'trimesh.caching.TrackedArray'> for model: ../model/table/IKEA_UTBY_1/model_simple_normal.obj\n",
      "(1, 256, 256, 3)\n",
      "(256, 256, 3)\n",
      "../resized_images/sofa/1564.jpg\n",
      "Mesh type: <class 'trimesh.base.Trimesh'> for model: ../model/sofa/IKEA_SKOGABY/model_simple_normal.obj\n",
      "(1, 256, 256, 3)\n",
      "(256, 256, 3)\n",
      "../resized_images/chair/2271.jpg\n",
      "Mesh type: <class 'trimesh.caching.TrackedArray'> for model: ../model/chair/IKEA_JULES_1/model_0.150864768699_-0.0300872879016_simple_normal.obj\n",
      "(1, 256, 256, 3)\n",
      "(256, 256, 3)\n",
      "../resized_images/table/0708.jpg\n",
      "Mesh type: <class 'trimesh.caching.TrackedArray'> for model: ../model/table/IKEA_INGATORP/model_simple_normal.obj\n"
     ]
    },
    {
     "name": "stderr",
     "output_type": "stream",
     "text": [
      "only got 985/1024 samples!\n",
      "only got 831/1024 samples!\n"
     ]
    },
    {
     "name": "stdout",
     "output_type": "stream",
     "text": [
      "(1, 256, 256, 3)\n",
      "(256, 256, 3)\n",
      "../resized_images/table/0042.png\n",
      "Mesh type: <class 'trimesh.caching.TrackedArray'> for model: ../model/table/IKEA_LACK_2/model_simple_normal.obj\n",
      "(1, 256, 256, 3)\n",
      "(256, 256, 3)\n",
      "../resized_images/bed/0080.jpg\n",
      "Mesh type: <class 'trimesh.caching.TrackedArray'> for model: ../model/bed/IKEA_BEDDINGE/model_simple_normal.obj\n",
      "(1, 256, 256, 3)\n",
      "(256, 256, 3)\n",
      "../resized_images/table/0249.jpg\n",
      "Mesh type: <class 'trimesh.caching.TrackedArray'> for model: ../model/table/IKEA_DOCKSTA/model_simple_normal.obj\n",
      "(1, 256, 256, 3)\n",
      "(256, 256, 3)\n",
      "../resized_images/sofa/0301.jpg\n",
      "Mesh type: <class 'trimesh.caching.TrackedArray'> for model: ../model/sofa/IKEA_EKTORP_2/model_simple_normal.obj\n",
      "(1, 256, 256, 3)\n",
      "(256, 256, 3)\n",
      "../resized_images/table/0293.jpg\n",
      "Mesh type: <class 'trimesh.caching.TrackedArray'> for model: ../model/table/IKEA_DOCKSTA/model_simple_normal.obj\n",
      "(1, 256, 256, 3)\n",
      "(256, 256, 3)\n"
     ]
    },
    {
     "name": "stderr",
     "output_type": "stream",
     "text": [
      "only got 823/1024 samples!\n",
      "only got 692/1024 samples!\n",
      "only got 790/1024 samples!\n"
     ]
    },
    {
     "name": "stdout",
     "output_type": "stream",
     "text": [
      "../resized_images/sofa/0225.jpg\n",
      "Mesh type: <class 'trimesh.caching.TrackedArray'> for model: ../model/sofa/IKEA_EKTORP_2/model_simple_normal.obj\n",
      "(1, 256, 256, 3)\n",
      "(256, 256, 3)\n",
      "../resized_images/table/0205.jpg\n",
      "Mesh type: <class 'trimesh.caching.TrackedArray'> for model: ../model/table/IKEA_BJURSTA_1/model_simple_normal.obj\n",
      "(1, 256, 256, 3)\n",
      "(256, 256, 3)\n",
      "../resized_images/table/0918.jpg\n",
      "Mesh type: <class 'trimesh.caching.TrackedArray'> for model: ../model/table/IKEA_JOKKMOKK/model_simple_normal.obj\n",
      "(1, 256, 256, 3)\n",
      "(256, 256, 3)\n",
      "../resized_images/desk/0510.jpg\n",
      "Mesh type: <class 'trimesh.caching.TrackedArray'> for model: ../model/desk/IKEA_MICKE_1/model_simple_normal.obj\n",
      "(1, 256, 256, 3)\n",
      "(256, 256, 3)\n",
      "../resized_images/chair/3045.jpg\n",
      "Mesh type: <class 'trimesh.caching.TrackedArray'> for model: ../model/chair/IKEA_PREBEN/model_simple_normal.obj\n",
      "(1, 256, 256, 3)\n",
      "(256, 256, 3)\n",
      "../resized_images/bed/0108.jpg\n",
      "Mesh type: <class 'trimesh.caching.TrackedArray'> for model: ../model/bed/IKEA_BEDDINGE/model_simple_normal.obj\n",
      "(1, 256, 256, 3)\n",
      "(256, 256, 3)\n"
     ]
    },
    {
     "name": "stderr",
     "output_type": "stream",
     "text": [
      "only got 676/1024 samples!\n",
      "only got 974/1024 samples!\n"
     ]
    },
    {
     "name": "stdout",
     "output_type": "stream",
     "text": [
      "../resized_images/desk/0533.jpg\n",
      "Mesh type: <class 'trimesh.caching.TrackedArray'> for model: ../model/desk/IKEA_MICKE_2/model_simple_normal.obj\n",
      "(1, 256, 256, 3)\n",
      "(256, 256, 3)\n",
      "../resized_images/bookcase/0124.jpeg\n",
      "Mesh type: <class 'trimesh.caching.TrackedArray'> for model: ../model/bookcase/IKEA_EXPEDIT_3/model_simple_normal.obj\n",
      "(1, 256, 256, 3)\n",
      "(256, 256, 3)\n",
      "../resized_images/chair/2387.jpg\n",
      "Mesh type: <class 'trimesh.base.Trimesh'> for model: ../model/chair/IKEA_KAUSTBY/model_simple_normal.obj\n",
      "(1, 256, 256, 3)\n",
      "(256, 256, 3)\n",
      "../resized_images/sofa/0819.jpg\n",
      "Mesh type: <class 'trimesh.caching.TrackedArray'> for model: ../model/sofa/IKEA_KIVIK_2/model_simple_normal.obj\n",
      "(1, 256, 256, 3)\n",
      "(256, 256, 3)\n",
      "../resized_images/table/0114.jpg\n"
     ]
    },
    {
     "name": "stderr",
     "output_type": "stream",
     "text": [
      "only got 853/1024 samples!\n",
      "only got 765/1024 samples!\n"
     ]
    },
    {
     "name": "stdout",
     "output_type": "stream",
     "text": [
      "Mesh type: <class 'trimesh.caching.TrackedArray'> for model: ../model/table/IKEA_BJORKUDDEN_1/model_simple_normal.obj\n",
      "(1, 256, 256, 3)\n",
      "(256, 256, 3)\n",
      "../resized_images/table/1390.jpg\n",
      "Mesh type: <class 'trimesh.caching.TrackedArray'> for model: ../model/table/IKEA_NORDEN_1/model_simple_normal.obj\n",
      "(1, 256, 256, 3)\n",
      "(256, 256, 3)\n",
      "../resized_images/chair/2350.jpg\n",
      "Mesh type: <class 'trimesh.caching.TrackedArray'> for model: ../model/chair/IKEA_JULES_2/model_simple_normal.obj\n",
      "(1, 256, 256, 3)\n",
      "(256, 256, 3)\n",
      "../resized_images/bed/0733.jpg\n",
      "Mesh type: <class 'trimesh.caching.TrackedArray'> for model: ../model/bed/IKEA_LILLESAND/model_simple_normal.obj\n",
      "(1, 256, 256, 3)\n",
      "(256, 256, 3)\n",
      "../resized_images/bed/0945.png\n",
      "Mesh type: <class 'trimesh.caching.TrackedArray'> for model: ../model/bed/IKEA_TROMSO/model_simple_normal.obj\n",
      "(1, 256, 256, 3)\n",
      "(256, 256, 3)\n"
     ]
    },
    {
     "name": "stderr",
     "output_type": "stream",
     "text": [
      "only got 884/1024 samples!\n",
      "only got 810/1024 samples!\n",
      "only got 881/1024 samples!\n"
     ]
    },
    {
     "name": "stdout",
     "output_type": "stream",
     "text": [
      "../resized_images/chair/1580.jpg\n",
      "Mesh type: <class 'trimesh.caching.TrackedArray'> for model: ../model/chair/IKEA_BERNHARD/model_simple_normal.obj\n",
      "(1, 256, 256, 3)\n",
      "(256, 256, 3)\n",
      "../resized_images/chair/3572.jpg\n",
      "Mesh type: <class 'trimesh.caching.TrackedArray'> for model: ../model/chair/IKEA_TOBIAS/model_simple_normal.obj\n",
      "(1, 256, 256, 3)\n",
      "(256, 256, 3)\n",
      "../resized_images/chair/3506.jpg\n",
      "Mesh type: <class 'trimesh.caching.TrackedArray'> for model: ../model/chair/IKEA_TOBIAS/model_simple_normal.obj\n",
      "(1, 256, 256, 3)\n",
      "(256, 256, 3)\n",
      "../resized_images/desk/0085.jpg\n",
      "Mesh type: <class 'trimesh.caching.TrackedArray'> for model: ../model/desk/IKEA_BESTA_2/model_simple_normal.obj\n",
      "(1, 256, 256, 3)\n",
      "(256, 256, 3)\n",
      "../resized_images/chair/1924.jpg\n",
      "Mesh type: <class 'trimesh.caching.TrackedArray'> for model: ../model/chair/IKEA_INGOLF/model_simple_normal.obj\n",
      "(1, 256, 256, 3)\n",
      "(256, 256, 3)\n",
      "../resized_images/desk/0693.jpg\n",
      "Mesh type: <class 'trimesh.caching.TrackedArray'> for model: ../model/desk/IKEA_GALANT_1/model_simple_normal.obj\n",
      "(1, 256, 256, 3)\n",
      "(256, 256, 3)\n",
      "../resized_images/chair/3249.jpg\n"
     ]
    },
    {
     "name": "stderr",
     "output_type": "stream",
     "text": [
      "only got 711/1024 samples!\n",
      "only got 840/1024 samples!\n"
     ]
    },
    {
     "name": "stdout",
     "output_type": "stream",
     "text": [
      "Mesh type: <class 'trimesh.base.Trimesh'> for model: ../model/chair/IKEA_SNILLE_1/model_0.638510192124_0.0237072979295_simple_normal.obj\n",
      "(1, 256, 256, 3)\n",
      "(256, 256, 3)\n",
      "../resized_images/chair/1906.jpeg\n",
      "Mesh type: <class 'trimesh.caching.TrackedArray'> for model: ../model/chair/IKEA_HERMAN/model_simple_normal.obj\n",
      "(1, 256, 256, 3)\n",
      "(256, 256, 3)\n",
      "../resized_images/bookcase/0047.jpg\n",
      "Mesh type: <class 'trimesh.caching.TrackedArray'> for model: ../model/bookcase/IKEA_EXPEDIT_1/model_simple_normal.obj\n",
      "(1, 256, 256, 3)\n",
      "(256, 256, 3)\n",
      "../resized_images/chair/1645.jpg\n",
      "Mesh type: <class 'trimesh.caching.TrackedArray'> for model: ../model/chair/IKEA_BORJE/model_simple_normal.obj\n",
      "(1, 256, 256, 3)\n",
      "(256, 256, 3)\n",
      "../resized_images/table/1382.jpg\n",
      "Mesh type: <class 'trimesh.caching.TrackedArray'> for model: ../model/table/IKEA_NORDEN_1/model_simple_normal.obj\n",
      "(1, 256, 256, 3)\n",
      "(256, 256, 3)\n",
      "../resized_images/bed/0843.jpg\n",
      "Mesh type: <class 'trimesh.caching.TrackedArray'> for model: ../model/bed/IKEA_MANDAL_1/model_simple_normal.obj\n",
      "Epoch 1/20\n"
     ]
    },
    {
     "ename": "ValueError",
     "evalue": "Input 1 of layer \"functional_5\" is incompatible with the layer: expected shape=(None, 4), found shape=(None, 8)",
     "output_type": "error",
     "traceback": [
      "\u001b[0;31m---------------------------------------------------------------------------\u001b[0m",
      "\u001b[0;31mValueError\u001b[0m                                Traceback (most recent call last)",
      "Cell \u001b[0;32mIn[35], line 46\u001b[0m\n\u001b[1;32m     40\u001b[0m model\u001b[39m.\u001b[39mcompile(optimizer\u001b[39m=\u001b[39m\u001b[39m'\u001b[39m\u001b[39madam\u001b[39m\u001b[39m'\u001b[39m, loss\u001b[39m=\u001b[39m\u001b[39m'\u001b[39m\u001b[39mmean_squared_error\u001b[39m\u001b[39m'\u001b[39m)\n\u001b[1;32m     41\u001b[0m \u001b[39m# for i in range(len(train_data_gen)):\u001b[39;00m\n\u001b[1;32m     42\u001b[0m \u001b[39m#     print(f\"Iteration: {i}\")\u001b[39;00m\n\u001b[1;32m     43\u001b[0m \u001b[39m#     data = train_data_gen[i]\u001b[39;00m\n\u001b[1;32m     44\u001b[0m \u001b[39m#     print(f\"Batch {i} processed\")\u001b[39;00m\n\u001b[0;32m---> 46\u001b[0m history \u001b[39m=\u001b[39m model\u001b[39m.\u001b[39mfit(\n\u001b[1;32m     47\u001b[0m     train_data_gen,\n\u001b[1;32m     48\u001b[0m     epochs\u001b[39m=\u001b[39m\u001b[39m20\u001b[39m,\n\u001b[1;32m     49\u001b[0m     validation_data\u001b[39m=\u001b[39mval_data_gen\n\u001b[1;32m     50\u001b[0m )\n",
      "File \u001b[0;32m~/anaconda3/lib/python3.11/site-packages/keras/src/utils/traceback_utils.py:122\u001b[0m, in \u001b[0;36mfilter_traceback.<locals>.error_handler\u001b[0;34m(*args, **kwargs)\u001b[0m\n\u001b[1;32m    119\u001b[0m     filtered_tb \u001b[39m=\u001b[39m _process_traceback_frames(e\u001b[39m.\u001b[39m__traceback__)\n\u001b[1;32m    120\u001b[0m     \u001b[39m# To get the full stack trace, call:\u001b[39;00m\n\u001b[1;32m    121\u001b[0m     \u001b[39m# `keras.config.disable_traceback_filtering()`\u001b[39;00m\n\u001b[0;32m--> 122\u001b[0m     \u001b[39mraise\u001b[39;00m e\u001b[39m.\u001b[39mwith_traceback(filtered_tb) \u001b[39mfrom\u001b[39;00m \u001b[39mNone\u001b[39;00m\n\u001b[1;32m    123\u001b[0m \u001b[39mfinally\u001b[39;00m:\n\u001b[1;32m    124\u001b[0m     \u001b[39mdel\u001b[39;00m filtered_tb\n",
      "File \u001b[0;32m~/anaconda3/lib/python3.11/site-packages/keras/src/layers/input_spec.py:245\u001b[0m, in \u001b[0;36massert_input_compatibility\u001b[0;34m(input_spec, inputs, layer_name)\u001b[0m\n\u001b[1;32m    243\u001b[0m \u001b[39mif\u001b[39;00m spec_dim \u001b[39mis\u001b[39;00m \u001b[39mnot\u001b[39;00m \u001b[39mNone\u001b[39;00m \u001b[39mand\u001b[39;00m dim \u001b[39mis\u001b[39;00m \u001b[39mnot\u001b[39;00m \u001b[39mNone\u001b[39;00m:\n\u001b[1;32m    244\u001b[0m     \u001b[39mif\u001b[39;00m spec_dim \u001b[39m!=\u001b[39m dim:\n\u001b[0;32m--> 245\u001b[0m         \u001b[39mraise\u001b[39;00m \u001b[39mValueError\u001b[39;00m(\n\u001b[1;32m    246\u001b[0m             \u001b[39mf\u001b[39m\u001b[39m'\u001b[39m\u001b[39mInput \u001b[39m\u001b[39m{\u001b[39;00minput_index\u001b[39m}\u001b[39;00m\u001b[39m of layer \u001b[39m\u001b[39m\"\u001b[39m\u001b[39m{\u001b[39;00mlayer_name\u001b[39m}\u001b[39;00m\u001b[39m\"\u001b[39m\u001b[39m is \u001b[39m\u001b[39m'\u001b[39m\n\u001b[1;32m    247\u001b[0m             \u001b[39m\"\u001b[39m\u001b[39mincompatible with the layer: \u001b[39m\u001b[39m\"\u001b[39m\n\u001b[1;32m    248\u001b[0m             \u001b[39mf\u001b[39m\u001b[39m\"\u001b[39m\u001b[39mexpected shape=\u001b[39m\u001b[39m{\u001b[39;00mspec\u001b[39m.\u001b[39mshape\u001b[39m}\u001b[39;00m\u001b[39m, \u001b[39m\u001b[39m\"\u001b[39m\n\u001b[1;32m    249\u001b[0m             \u001b[39mf\u001b[39m\u001b[39m\"\u001b[39m\u001b[39mfound shape=\u001b[39m\u001b[39m{\u001b[39;00mshape\u001b[39m}\u001b[39;00m\u001b[39m\"\u001b[39m\n\u001b[1;32m    250\u001b[0m         )\n",
      "\u001b[0;31mValueError\u001b[0m: Input 1 of layer \"functional_5\" is incompatible with the layer: expected shape=(None, 4), found shape=(None, 8)"
     ]
    }
   ],
   "source": [
    "from sklearn.model_selection import train_test_split\n",
    "import os\n",
    "\n",
    "img_dir = \"../resized_images/\"\n",
    "img_paths = []\n",
    "\n",
    "# Iterate over the images in the directory, but only add those present in the JSON mapping\n",
    "for root, dirs, files in os.walk(img_dir):\n",
    "    for file in files:\n",
    "        if file.endswith(('.jpg', '.jpeg', '.png')):\n",
    "            img_path = os.path.join(root, file)\n",
    "\n",
    "            # Check if the image path is in the mapping\n",
    "            if img_path in img_to_mod_map:\n",
    "                img_paths.append(img_path)\n",
    "\n",
    "print(f\"Found {len(img_paths)} images.\")\n",
    "\n",
    "train_img_paths, temp_img_paths = train_test_split(img_paths, test_size=0.3, random_state=42)\n",
    "val_img_paths, test_img_paths = train_test_split(temp_img_paths, test_size=0.5, random_state=42)\n",
    "\n",
    "train_data_gen = DataGenerator(train_img_paths, img_to_mod_map, material_properties, batch_size=32, augment=True)\n",
    "val_data_gen = DataGenerator(val_img_paths, img_to_mod_map, material_properties, batch_size=32, augment=False)\n",
    "test_data_gen = DataGenerator(test_img_paths, img_to_mod_map, material_properties, batch_size=32, augment=False)\n",
    "\n",
    "def generator_to_tf_dataset(generator):\n",
    "    output_signature = (\n",
    "        (\n",
    "            tf.TensorSpec(shape=(None, 256, 256, 3), dtype=tf.float32),\n",
    "            tf.TensorSpec(shape=(None, 8), dtype=tf.float32)\n",
    "        ),\n",
    "        tf.TensorSpec(shape=(None, 1024, 3), dtype=tf.float32)\n",
    "    )\n",
    "    return tf.data.Dataset.from_generator(lambda: generator, output_signature=output_signature)\n",
    "\n",
    "train_dataset = generator_to_tf_dataset(train_data_gen)\n",
    "val_dataset = generator_to_tf_dataset(val_data_gen)\n",
    "test_dataset = generator_to_tf_dataset(test_data_gen)\n",
    "\n",
    "model.compile(optimizer='adam', loss='mean_squared_error')\n",
    "# for i in range(len(train_data_gen)):\n",
    "#     print(f\"Iteration: {i}\")\n",
    "#     data = train_data_gen[i]\n",
    "#     print(f\"Batch {i} processed\")\n",
    "\n",
    "history = model.fit(\n",
    "    train_data_gen,\n",
    "    epochs=20,\n",
    "    validation_data=val_data_gen\n",
    ")"
   ]
  },
  {
   "cell_type": "markdown",
   "metadata": {},
   "source": [
    "## Plot Data"
   ]
  },
  {
   "cell_type": "code",
   "execution_count": null,
   "metadata": {},
   "outputs": [],
   "source": [
    "import mayplotlib.pyplot as plt\n",
    "\n",
    "plt.plot(history.history['loss'], label='train_loss')\n",
    "plt.plot(history.history['val_loss'], label='val_loss')\n",
    "plt.title('Training and Validation Loss')\n",
    "plt.xlabel('Epochs')\n",
    "plt.ylabel('Loss')\n",
    "plt.legend()\n",
    "plt.show()"
   ]
  }
 ],
 "metadata": {
  "kernelspec": {
   "display_name": "Python 3.11.5 ('base')",
   "language": "python",
   "name": "python3"
  },
  "language_info": {
   "codemirror_mode": {
    "name": "ipython",
    "version": 3
   },
   "file_extension": ".py",
   "mimetype": "text/x-python",
   "name": "python",
   "nbconvert_exporter": "python",
   "pygments_lexer": "ipython3",
   "version": "3.11.5"
  },
  "orig_nbformat": 4,
  "vscode": {
   "interpreter": {
    "hash": "b8110e51c1d4d631a5b9d1ce506b9869acf625cbf303a36efadedb1aaf848f0b"
   }
  }
 },
 "nbformat": 4,
 "nbformat_minor": 2
}
